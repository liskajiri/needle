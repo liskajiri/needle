{
  "cells": [
    {
      "cell_type": "markdown",
      "metadata": {
        "id": "b38216e2"
      },
      "source": [
        "# Homework 3: Building an NDArray library\n",
        "\n",
        "In this homework, you will build a simple backing library for the processing that underlies most deep learning systems: the n-dimensional array (a.k.a. the NDArray).  Up until now, you have largely been using numpy for this purpose, but this homework will walk you through developing what amounts to your own (albeit much more limited) variant of numpy, which will support both CPU and GPU backends.  What's more, unlike numpy (and even variants like PyTorch), you won't simply call out to existing highly-optimized variants of matrix multiplication or other manipulation code, but actually write your own versions that are reasonably competitive will the highly optimized code backing these standard libraries (by some measure, i.e., \"only 2-3x slower\" ... which is a whole lot better than naive code that can easily be 100x slower).  This class will ultimately be integrated into `needle`, but for this assignment you can _only_ focus on the ndarray module, as this will be the only subject of the tests.\n",
        "\n"
      ],
      "id": "b38216e2"
    },
    {
      "cell_type": "code",
      "execution_count": 1,
      "metadata": {
        "id": "db5a484c",
        "outputId": "10024945-d2d3-47fb-d829-f983ae1e6e7a",
        "colab": {
          "base_uri": "https://localhost:8080/"
        }
      },
      "outputs": [
        {
          "output_type": "stream",
          "name": "stdout",
          "text": [
            "Mounted at /content/drive\n",
            "/content/drive/MyDrive\n",
            "/content/drive/MyDrive/10714\n",
            "fatal: destination path 'hw3' already exists and is not an empty directory.\n",
            "/content/drive/MyDrive/10714/hw3\n",
            "Collecting git+https://github.com/dlsys10714/mugrade.git\n",
            "  Cloning https://github.com/dlsys10714/mugrade.git to /tmp/pip-req-build-vrjw5_r6\n",
            "  Running command git clone --filter=blob:none --quiet https://github.com/dlsys10714/mugrade.git /tmp/pip-req-build-vrjw5_r6\n",
            "  Resolved https://github.com/dlsys10714/mugrade.git to commit 656cdc2b7ad5a37e7a5347a7b0405df0acd72380\n",
            "  Preparing metadata (setup.py) ... \u001b[?25l\u001b[?25hdone\n",
            "Building wheels for collected packages: mugrade\n",
            "  Building wheel for mugrade (setup.py) ... \u001b[?25l\u001b[?25hdone\n",
            "  Created wheel for mugrade: filename=mugrade-1.2-py3-none-any.whl size=3932 sha256=5cca2c6f03f721d7690ca10cbb831dd0371f5d5955a1e0a8a12170dfbf911ac1\n",
            "  Stored in directory: /tmp/pip-ephem-wheel-cache-7l1uhsx9/wheels/8b/ba/3a/621da1207eab160c01968c5e0bd1266f505b9e3f8010376d61\n",
            "Successfully built mugrade\n",
            "Installing collected packages: mugrade\n",
            "Successfully installed mugrade-1.2\n",
            "Collecting pybind11\n",
            "  Downloading pybind11-2.11.1-py3-none-any.whl (227 kB)\n",
            "\u001b[2K     \u001b[90m━━━━━━━━━━━━━━━━━━━━━━━━━━━━━━━━━━━━━━━━\u001b[0m \u001b[32m227.7/227.7 kB\u001b[0m \u001b[31m2.2 MB/s\u001b[0m eta \u001b[36m0:00:00\u001b[0m\n",
            "\u001b[?25hInstalling collected packages: pybind11\n",
            "Successfully installed pybind11-2.11.1\n",
            "Collecting pytest-benchmark\n",
            "  Downloading pytest_benchmark-4.0.0-py3-none-any.whl (43 kB)\n",
            "\u001b[2K     \u001b[90m━━━━━━━━━━━━━━━━━━━━━━━━━━━━━━━━━━━━━━━━\u001b[0m \u001b[32m44.0/44.0 kB\u001b[0m \u001b[31m799.9 kB/s\u001b[0m eta \u001b[36m0:00:00\u001b[0m\n",
            "\u001b[?25hRequirement already satisfied: pytest>=3.8 in /usr/local/lib/python3.10/dist-packages (from pytest-benchmark) (7.4.4)\n",
            "Requirement already satisfied: py-cpuinfo in /usr/local/lib/python3.10/dist-packages (from pytest-benchmark) (9.0.0)\n",
            "Requirement already satisfied: iniconfig in /usr/local/lib/python3.10/dist-packages (from pytest>=3.8->pytest-benchmark) (2.0.0)\n",
            "Requirement already satisfied: packaging in /usr/local/lib/python3.10/dist-packages (from pytest>=3.8->pytest-benchmark) (23.2)\n",
            "Requirement already satisfied: pluggy<2.0,>=0.12 in /usr/local/lib/python3.10/dist-packages (from pytest>=3.8->pytest-benchmark) (1.4.0)\n",
            "Requirement already satisfied: exceptiongroup>=1.0.0rc8 in /usr/local/lib/python3.10/dist-packages (from pytest>=3.8->pytest-benchmark) (1.2.0)\n",
            "Requirement already satisfied: tomli>=1.0.0 in /usr/local/lib/python3.10/dist-packages (from pytest>=3.8->pytest-benchmark) (2.0.1)\n",
            "Installing collected packages: pytest-benchmark\n",
            "Successfully installed pytest-benchmark-4.0.0\n"
          ]
        }
      ],
      "source": [
        "# Code to set up the assignment\n",
        "from google.colab import drive\n",
        "drive.mount('/content/drive')\n",
        "%cd /content/drive/MyDrive/\n",
        "!mkdir -p 10714\n",
        "%cd /content/drive/MyDrive/10714\n",
        "!git clone https://github.com/dlsys10714/hw3.git\n",
        "%cd /content/drive/MyDrive/10714/hw3\n",
        "\n",
        "!pip3 install --upgrade --no-deps git+https://github.com/dlsys10714/mugrade.git\n",
        "!pip3 install pybind11\n",
        "!pip3 install pytest-benchmark"
      ],
      "id": "db5a484c"
    },
    {
      "cell_type": "code",
      "execution_count": 2,
      "metadata": {
        "id": "09eedbc6",
        "colab": {
          "base_uri": "https://localhost:8080/"
        },
        "outputId": "83f764c2-3e20-45ac-da31-ae809da622a6"
      },
      "outputs": [
        {
          "output_type": "stream",
          "name": "stdout",
          "text": [
            "-- The C compiler identification is GNU 11.4.0\n",
            "-- The CXX compiler identification is GNU 11.4.0\n",
            "-- Detecting C compiler ABI info\n",
            "-- Detecting C compiler ABI info - done\n",
            "-- Check for working C compiler: /usr/bin/cc - skipped\n",
            "-- Detecting C compile features\n",
            "-- Detecting C compile features - done\n",
            "-- Detecting CXX compiler ABI info\n",
            "-- Detecting CXX compiler ABI info - done\n",
            "-- Check for working CXX compiler: /usr/bin/c++ - skipped\n",
            "-- Detecting CXX compile features\n",
            "-- Detecting CXX compile features - done\n",
            "-- Found pybind11: /usr/local/lib/python3.10/dist-packages/pybind11/include (found version \"2.11.1\")\n",
            "\u001b[33mCMake Warning (dev) at CMakeLists.txt:55 (find_package):\n",
            "  Policy CMP0146 is not set: The FindCUDA module is removed.  Run \"cmake\n",
            "  --help-policy CMP0146\" for policy details.  Use the cmake_policy command to\n",
            "  set the policy and suppress this warning.\n",
            "\n",
            "This warning is for project developers.  Use -Wno-dev to suppress it.\n",
            "\u001b[0m\n",
            "-- Found cuda, building cuda backend\n",
            "Tue Jan 30 22:28:17 2024       \n",
            "+---------------------------------------------------------------------------------------+\n",
            "| NVIDIA-SMI 535.104.05             Driver Version: 535.104.05   CUDA Version: 12.2     |\n",
            "|-----------------------------------------+----------------------+----------------------+\n",
            "| GPU  Name                 Persistence-M | Bus-Id        Disp.A | Volatile Uncorr. ECC |\n",
            "| Fan  Temp   Perf          Pwr:Usage/Cap |         Memory-Usage | GPU-Util  Compute M. |\n",
            "|                                         |                      |               MIG M. |\n",
            "|=========================================+======================+======================|\n",
            "|   0  Tesla T4                       Off | 00000000:00:04.0 Off |                    0 |\n",
            "| N/A   50C    P8               9W /  70W |      0MiB / 15360MiB |      0%      Default |\n",
            "|                                         |                      |                  N/A |\n",
            "+-----------------------------------------+----------------------+----------------------+\n",
            "                                                                                         \n",
            "+---------------------------------------------------------------------------------------+\n",
            "| Processes:                                                                            |\n",
            "|  GPU   GI   CI        PID   Type   Process name                            GPU Memory |\n",
            "|        ID   ID                                                             Usage      |\n",
            "|=======================================================================================|\n",
            "|  No running processes found                                                           |\n",
            "+---------------------------------------------------------------------------------------+\n",
            "-- Autodetected CUDA architecture(s):  7.5\n",
            "-- Configuring done (4.1s)\n",
            "-- Generating done (3.2s)\n",
            "-- Build files have been written to: /content/drive/MyDrive/10714/hw3/build\n",
            "make[1]: Entering directory '/content/drive/MyDrive/10714/hw3/build'\n",
            "make[2]: Entering directory '/content/drive/MyDrive/10714/hw3/build'\n",
            "make[3]: Entering directory '/content/drive/MyDrive/10714/hw3/build'\n",
            "make[3]: Leaving directory '/content/drive/MyDrive/10714/hw3/build'\n",
            "make[3]: Entering directory '/content/drive/MyDrive/10714/hw3/build'\n",
            "[-25%] \u001b[32mBuilding CXX object CMakeFiles/ndarray_backend_cpu.dir/src/ndarray_backend_cpu.cc.o\u001b[0m\n",
            "[  0%] \u001b[32m\u001b[1mLinking CXX shared module /content/drive/MyDrive/10714/hw3/python/needle/backend_ndarray/ndarray_backend_cpu.cpython-310-x86_64-linux-gnu.so\u001b[0m\n",
            "make[3]: Leaving directory '/content/drive/MyDrive/10714/hw3/build'\n",
            "[  0%] Built target ndarray_backend_cpu\n",
            "make[3]: Entering directory '/content/drive/MyDrive/10714/hw3/build'\n",
            "[ 25%] \u001b[34m\u001b[1mBuilding NVCC (Device) object CMakeFiles/ndarray_backend_cuda.dir/src/ndarray_backend_cuda_generated_ndarray_backend_cuda.cu.o\u001b[0m\n",
            "make[3]: Leaving directory '/content/drive/MyDrive/10714/hw3/build'\n",
            "make[3]: Entering directory '/content/drive/MyDrive/10714/hw3/build'\n",
            "[ 50%] \u001b[32m\u001b[1mLinking CXX shared module /content/drive/MyDrive/10714/hw3/python/needle/backend_ndarray/ndarray_backend_cuda.cpython-310-x86_64-linux-gnu.so\u001b[0m\n",
            "make[3]: Leaving directory '/content/drive/MyDrive/10714/hw3/build'\n",
            "[ 50%] Built target ndarray_backend_cuda\n",
            "make[2]: Leaving directory '/content/drive/MyDrive/10714/hw3/build'\n",
            "make[1]: Leaving directory '/content/drive/MyDrive/10714/hw3/build'\n"
          ]
        }
      ],
      "source": [
        "!make"
      ],
      "id": "09eedbc6"
    },
    {
      "cell_type": "code",
      "execution_count": 3,
      "metadata": {
        "id": "glK6Q7Ik-2cJ",
        "colab": {
          "base_uri": "https://localhost:8080/"
        },
        "outputId": "12e2b1ed-9eb4-417a-fa6b-47a9b6e8bd6f"
      },
      "outputs": [
        {
          "output_type": "stream",
          "name": "stdout",
          "text": [
            "env: PYTHONPATH=./python\n"
          ]
        }
      ],
      "source": [
        "%set_env PYTHONPATH ./python"
      ],
      "id": "glK6Q7Ik-2cJ"
    },
    {
      "cell_type": "code",
      "execution_count": 4,
      "metadata": {
        "id": "e7aadcf9"
      },
      "outputs": [],
      "source": [
        "import sys\n",
        "sys.path.append('./python')"
      ],
      "id": "e7aadcf9"
    },
    {
      "cell_type": "markdown",
      "metadata": {
        "id": "899bc262"
      },
      "source": [
        "## Getting familiar with the NDArray class\n",
        "\n",
        "As you get started with this homework, you should first familiarize yourself with the `NDArray.py` class we have provided as a starting point for the assignment.  The code is fairly brief (it's ~500 lines, but a lot of these are comments provided for the functions you'll implement).\n",
        "\n",
        "At its core, the NDArray class is a Python wrapper for handling operations on generic n-dimensional arrays.  Recall that virtually any such array will be stored internally as a vector of floating point values, i.e.,\n",
        "\n",
        "```c++\n",
        "float data[size];\n",
        "```\n",
        "\n",
        "and then the actual access to different dimensions of the array are all handled by additional fields (such as the array shape, strides, etc) that indicates how this \"flat\" array maps to n-dimensional structure.  In order to achieve any sort of reasonable speed, the \"raw\" operations (like adding, binary operations, but also more structured operations like matrix multiplication, etc), all need to be written at some level in some native language like C++ (including e.g., making CUDA calls).  But a large number of operations likes transposing, broadcasting, sub-setting of matrices, and other, can all be handled by just adjusting the high-level structure of the array, like it's strides.\n",
        "\n",
        "The philosophy behind the NDArray class is that we want _all_ the logic for handling this structure of the array to be written in Python.  Only the \"true\" low level code that actually performs the raw underlying operations on the flat vector (as well as the code to manage these flat vectors, as they might need to e.g., be allocated on GPUs), is written in C++.  The precise nature of this separation will likely start to make more sense to you as you work through the assignment, but generally speaking everything that can be done in Python, is done in Python; often e.g., at the cost of some inefficiencies ... we call `.compact()` (which copies memory) liberally in order to make the underlying C++ implementations simpler.\n",
        "\n",
        "In more detail, there are five fields within the NDArray class that you'll need to be familiar with (note that the real class member these all these fields is preceded by an underscore, e.g., `_handle`, `_strides`, etc, some of which are then exposed as a public property ... for all your code it's fine to use the internal, underscored version).\n",
        "\n",
        "1. `device` - A object of type `BackendDevice`, which is a simple wrapper that contains a link to the underlying device backend (e.g., CPU or CUDA).\n",
        "2. `handle` - A class objected that stores the underlying memory of the array.  This is allocated as a class of type `device.Array()`, though this allocation all happens in the provided code (specifically the `NDArray.make` function), and you don't need to worry about calling it yourself.\n",
        "3. `shape` - A tuple specifying the size of each dimension in the array.\n",
        "4. `strides` - A tuple specifying the strides of each dimension in the array.\n",
        "5. `offset` - An integer indicating where in the underlying `device.Array` memory the array actually starts (it's convenient to store this so we can more easily manage pointing back to existing memory, without having to track allocations).\n",
        "\n",
        "By manipulating these fields, even pure Python code can perform a lot of the needed operations on the array, such as permuting the dimensions (i.e., transposing), broadcasting, and more.  And then for the raw array manipulation calls, the `device` class has a number of methods (implemented in C++) that contains the necessary implementations.\n",
        "\n",
        "There are a few points to note:\n",
        "\n",
        "* Internally, the class can use _any_ efficient means of operating on arrays of data as a \"device\" backend.  Even, for example, a numpy array, but where instead of actually using the `numpy.ndarray` to represent the n-dimensional array, we just represent a \"flat\" 1D array in numpy, then call the relevant numpy methods to implement all the needed operators on this raw memory.  This is precisely what we do in the `ndarray_backend_numpy.py` file, which essentially provided a \"stub reference\" that just uses numpy for everything.  You can use this class to help you  better debug your own \"real\" implementations for the \"native\" CPU and GPU backends.\n",
        "* Of particular importance for many of your Python implementations will be the `NDArray.make` call:\n",
        "```python\n",
        "def make(shape, strides=None, device=None, handle=None, offset=0):\n",
        "```\n",
        "which creates a new NDArray with the given shape, strides, device, handle, and offset.  If `handle` is not specified (i.e., no pre-existing memory is referenced), then the call will allocate the needed memory, but if handle _is_ specified then no new memory is allocated, but the new NDArray points the same memory as the old one.  It is important to efficient implementations that as many of your functions as possible _don't_ allocate new memory, so you will want to use this call in many cases to accomplish this.\n",
        "* The NDArray has a `.numpy()` call that converts the array to numpy.  This is _not_ the same as the \"numpy_device\" backend: this creates an actual `numpy.ndarray` that is equivalent to the given NDArray, i.e., the same dimensions, shape, etc, though not necessarily the same strides (Pybind11 will reallocate memory for matrices that are returned in this manner, which can change the striding).\n"
      ],
      "id": "899bc262"
    },
    {
      "cell_type": "markdown",
      "metadata": {
        "id": "cc7c24db"
      },
      "source": [
        "## Part 1: Python array operations\n",
        "\n",
        "As a starting point for your class, implement the following functions in the `ndarray.py` file:\n",
        "\n",
        "- `reshape()`\n",
        "- `permute()`\n",
        "- `broadcast_to()`\n",
        "- `__getitem__()`\n",
        "\n",
        "The inputs/outputs of these functions are all described in the docstring of the function stub.  It's important to emphasize that _none_ of these functions should reallocate memory, but should instead return NDArrays that share the same memory with `self`, and just use clever manipulation of shape/strides/etc in order to obtain the necessary transformations.\n",
        "\n",
        "One thing to note is that the `__getitem__()` call, unlike numpy, will never change the number of dimensions in the array.  So e.g., for a 2D NDArray `A`, `A[2,2]` would return a still-2D with one row and one column.  And e.g. `A[:4,2]` would return a 2D NDarray with 4 rows and 1 column.\n",
        "\n",
        "You can rely on the `ndarray_backend_numpy.py` module for all the code in this section.  You can also look at the results of equivalent numpy operations (the test cases should illustrate what these are).\n",
        "\n",
        "After implementing these functions, you should pass/submit the following tests.  Note that we test all of these four functions within the test below, and you can incrementally try to pass more tests as you implement each additional function."
      ],
      "id": "cc7c24db"
    },
    {
      "cell_type": "code",
      "execution_count": 5,
      "metadata": {
        "id": "835c3880",
        "colab": {
          "base_uri": "https://localhost:8080/"
        },
        "outputId": "7d08c370-495b-479f-d6fb-13ef7bf772b4"
      },
      "outputs": [
        {
          "output_type": "stream",
          "name": "stdout",
          "text": [
            "\u001b[1m======================================= test session starts ========================================\u001b[0m\n",
            "platform linux -- Python 3.10.12, pytest-7.4.4, pluggy-1.4.0 -- /usr/bin/python3\n",
            "cachedir: .pytest_cache\n",
            "benchmark: 4.0.0 (defaults: timer=time.perf_counter disable_gc=False min_rounds=5 min_time=0.000005 max_time=1.0 calibration_precision=10 warmup=False warmup_iterations=100000)\n",
            "rootdir: /content/drive/MyDrive/10714/hw3\n",
            "plugins: benchmark-4.0.0, anyio-3.7.1\n",
            "collected 145 items / 135 deselected / 10 selected                                                 \u001b[0m\n",
            "\n",
            "tests/test_ndarray.py::test_permute[cpu-params0] \u001b[32mPASSED\u001b[0m\u001b[32m                                      [ 10%]\u001b[0m\n",
            "tests/test_ndarray.py::test_permute[cpu-params1] \u001b[32mPASSED\u001b[0m\u001b[32m                                      [ 20%]\u001b[0m\n",
            "tests/test_ndarray.py::test_permute[cpu-params2] \u001b[32mPASSED\u001b[0m\u001b[32m                                      [ 30%]\u001b[0m\n",
            "tests/test_ndarray.py::test_reshape[cpu-params0] \u001b[32mPASSED\u001b[0m\u001b[32m                                      [ 40%]\u001b[0m\n",
            "tests/test_ndarray.py::test_reshape[cpu-params1] \u001b[32mPASSED\u001b[0m\u001b[32m                                      [ 50%]\u001b[0m\n",
            "tests/test_ndarray.py::test_getitem[cpu-params0] \u001b[32mPASSED\u001b[0m\u001b[32m                                      [ 60%]\u001b[0m\n",
            "tests/test_ndarray.py::test_getitem[cpu-params1] \u001b[32mPASSED\u001b[0m\u001b[32m                                      [ 70%]\u001b[0m\n",
            "tests/test_ndarray.py::test_getitem[cpu-params2] \u001b[32mPASSED\u001b[0m\u001b[32m                                      [ 80%]\u001b[0m\n",
            "tests/test_ndarray.py::test_getitem[cpu-params3] \u001b[32mPASSED\u001b[0m\u001b[32m                                      [ 90%]\u001b[0m\n",
            "tests/test_ndarray.py::test_broadcast_to[cpu-params0] \u001b[32mPASSED\u001b[0m\u001b[32m                                 [100%]\u001b[0m\n",
            "\n",
            "\u001b[32m================================ \u001b[32m\u001b[1m10 passed\u001b[0m, \u001b[33m135 deselected\u001b[0m\u001b[32m in 3.79s\u001b[0m\u001b[32m ================================\u001b[0m\n"
          ]
        }
      ],
      "source": [
        "!python3 -m pytest -v -k \"(permute or reshape or broadcast or getitem) and cpu and not compact\""
      ],
      "id": "835c3880"
    },
    {
      "cell_type": "markdown",
      "metadata": {
        "id": "21f48d27"
      },
      "source": [
        "## Part 2: CPU Backend - Compact and setitem\n",
        "\n",
        "Implement the following functions in `ndarray_backend_cpu.cc`:\n",
        "* `Compact()`\n",
        "* `EwiseSetitem()`\n",
        "* `ScalarSetitem()`\n",
        "\n",
        "To see why these are all in the same category, let's consider the implementation of the `Compact()` function.  Recall that a matrix is considered compact if it is layed out sequentially in memory in \"row-major\" form (but really a generalization of row-many to higher dimensional arrays), i.e. with the last dimension first, followed by the second to last dimension, etc, all the way to the first.  In our implementation, we also require that the total size of allocated backend array be equal to the size of the array (i.e., the underlying array also can't have any data before or after the array data, which e.g., implies that the `.offset` field equals zero).\n",
        "\n",
        "Now let's consider, using a 3D array as a an example, of how a compact call might work.  Here `shape` and `strides` are the shape and strides of the matrix being compacted (i.e., before we have compacted it).\n",
        "\n",
        "```c++\n",
        "cnt = 0;\n",
        "for (size_t i = 0; i < shape[0]; i++)\n",
        "    for (size_t j = 0; j < shape[1]; j++)\n",
        "        for (size_t k = 0; k < shape[2]; k++)\n",
        "            out[cnt++] = in[strides[0]*i + strides[1]*j + strides[2]*k];\n",
        "```\n",
        "In other words, we're converting from a stride-based representation of the matrix to a purely sequential one.\n",
        "\n",
        "Now, the challenge in implementing `Compact()` is that you want the method to work for any number of input dimensions.  It's easy to specialize for different fixed-dimension-size arrays, but for a generic implementation, you'll want to think about how to do this same operation where you effectively want a \"variable number of for loops\".  As a hint, one way to do this is to maintain a vector of indices (of size equal to the number of dimensions), and then manually increment them in a loop (including a \"carry\" operation when any of the reaches their maximum size).\n",
        "\n",
        "However, if you get really stuck with this, you can alway use the fact that we're probably not going to ask you to deal with matrices of more than 6 dimensions (though we _will_ use 6 dimensions, for the im2col operation we discussed in class).\n",
        "\n",
        "\n",
        "#### The connection to setitem\n",
        "The setitem functionality, while seemingly quite different, is actually intimately related to `Compact()`.  `__setitem()__` is the Python function called when setting some elements of the object, i.e.,\n",
        "```python\n",
        "A[::2,4:5,9] = 0 # or = some_other_array\n",
        "```\n",
        "How would you go about implementing this?  In the `__getitem()__` call above, you already implemented a method to take a subset of a matrix without copying (but just modifying strides).  But how would you actually go about _setting_ elements of this array?  In virtually all the other settings in this homework, we call `.compact()` before setting items in an output array, but in this case it doesn't work: calling `.compact()` would copy the subset array to some new memory, but the whole point of the `__setitem__()` call is that we want to modify existing memory.\n",
        "\n",
        "If you think about this for a while, you'll realize that the answer looks a lot like `.compact()` but in reverse.  If we want to assign a (itself already compact) right hand side matrix to a `__getitem()__` results, then we need to here like `shape` and `stride` be those fields of the _output_ matrix.  Then we could implement the setitem call as follows\n",
        "\n",
        "```c++\n",
        "cnt = 0;\n",
        "for (size_t i = 0; i < shape[0]; i++)\n",
        "    for (size_t j = 0; j < shape[1]; j++)\n",
        "        for (size_t k = 0; k < shape[2]; k++)\n",
        "            out[strides[0]*i + strides[1]*j + strides[2]*k] = in[cnt++]; // or \"= val;\"\n",
        "```\n",
        "Due to this similarity, if you implement your indexing strategy in a modular fashion, you'll be able to reuse it between the `Compact()` call and the `EwiseSetitem()` and `ScalarSetitem()` calls."
      ],
      "id": "21f48d27"
    },
    {
      "cell_type": "code",
      "source": [
        "!python3 -m pytest -v -k \"(compact or setitem) and cpu\""
      ],
      "metadata": {
        "id": "yzA8oKivfhUR",
        "colab": {
          "base_uri": "https://localhost:8080/"
        },
        "outputId": "a55b00a8-87b7-4838-ad97-68da4e2290aa"
      },
      "id": "yzA8oKivfhUR",
      "execution_count": 6,
      "outputs": [
        {
          "output_type": "stream",
          "name": "stdout",
          "text": [
            "\u001b[1m======================================= test session starts ========================================\u001b[0m\n",
            "platform linux -- Python 3.10.12, pytest-7.4.4, pluggy-1.4.0 -- /usr/bin/python3\n",
            "cachedir: .pytest_cache\n",
            "benchmark: 4.0.0 (defaults: timer=time.perf_counter disable_gc=False min_rounds=5 min_time=0.000005 max_time=1.0 calibration_precision=10 warmup=False warmup_iterations=100000)\n",
            "rootdir: /content/drive/MyDrive/10714/hw3\n",
            "plugins: benchmark-4.0.0, anyio-3.7.1\n",
            "collected 145 items / 130 deselected / 15 selected                                                 \u001b[0m\n",
            "\n",
            "tests/test_ndarray.py::test_compact[cpu-transpose] \u001b[32mPASSED\u001b[0m\u001b[32m                                    [  6%]\u001b[0m\n",
            "tests/test_ndarray.py::test_compact[cpu-broadcast_to] \u001b[32mPASSED\u001b[0m\u001b[32m                                 [ 13%]\u001b[0m\n",
            "tests/test_ndarray.py::test_compact[cpu-reshape1] \u001b[32mPASSED\u001b[0m\u001b[32m                                     [ 20%]\u001b[0m\n",
            "tests/test_ndarray.py::test_compact[cpu-reshape2] \u001b[32mPASSED\u001b[0m\u001b[32m                                     [ 26%]\u001b[0m\n",
            "tests/test_ndarray.py::test_compact[cpu-reshape3] \u001b[32mPASSED\u001b[0m\u001b[32m                                     [ 33%]\u001b[0m\n",
            "tests/test_ndarray.py::test_compact[cpu-getitem1] \u001b[32mPASSED\u001b[0m\u001b[32m                                     [ 40%]\u001b[0m\n",
            "tests/test_ndarray.py::test_compact[cpu-getitem2] \u001b[32mPASSED\u001b[0m\u001b[32m                                     [ 46%]\u001b[0m\n",
            "tests/test_ndarray.py::test_compact[cpu-transposegetitem] \u001b[32mPASSED\u001b[0m\u001b[32m                             [ 53%]\u001b[0m\n",
            "tests/test_ndarray.py::test_setitem_ewise[cpu-params0] \u001b[32mPASSED\u001b[0m\u001b[32m                                [ 60%]\u001b[0m\n",
            "tests/test_ndarray.py::test_setitem_ewise[cpu-params1] \u001b[32mPASSED\u001b[0m\u001b[32m                                [ 66%]\u001b[0m\n",
            "tests/test_ndarray.py::test_setitem_ewise[cpu-params2] \u001b[32mPASSED\u001b[0m\u001b[32m                                [ 73%]\u001b[0m\n",
            "tests/test_ndarray.py::test_setitem_scalar[cpu-params0] \u001b[32mPASSED\u001b[0m\u001b[32m                               [ 80%]\u001b[0m\n",
            "tests/test_ndarray.py::test_setitem_scalar[cpu-params1] \u001b[32mPASSED\u001b[0m\u001b[32m                               [ 86%]\u001b[0m\n",
            "tests/test_ndarray.py::test_setitem_scalar[cpu-params2] \u001b[32mPASSED\u001b[0m\u001b[32m                               [ 93%]\u001b[0m\n",
            "tests/test_ndarray.py::test_setitem_scalar[cpu-params3] \u001b[32mPASSED\u001b[0m\u001b[32m                               [100%]\u001b[0m\n",
            "\n",
            "\u001b[32m================================ \u001b[32m\u001b[1m15 passed\u001b[0m, \u001b[33m130 deselected\u001b[0m\u001b[32m in 0.36s\u001b[0m\u001b[32m ================================\u001b[0m\n"
          ]
        }
      ]
    },
    {
      "cell_type": "markdown",
      "metadata": {
        "id": "9df3e8fb"
      },
      "source": [
        "## Part 3: CPU Backend - Elementwise and scalar operations\n",
        "\n",
        "Implement the following functions in `ndarray_backend_cpu.cc`:\n",
        "\n",
        "* `EwiseMul()`, `ScalarMul()`\n",
        "* `EwiseDiv()`, `ScalarDiv()`\n",
        "* `ScalarPower()`\n",
        "* `EwiseMaximum()`, `ScalarMaximum()`\n",
        "* `EwiseEq()`, `ScalarEq()`\n",
        "* `EwiseGe()`, `ScalarGe()`\n",
        "* `EwiseLog()`\n",
        "* `EwiseExp()`\n",
        "* `EwiseTanh()`\n",
        "\n",
        "You can look at the included\n",
        "`EwiseAdd()` and `ScalarAdd()` functions (plus the invocations from `NDArray` in order to understand the required format of these functions.\n",
        "\n",
        "Note that unlike the remaining functions mentioned here, we do not include function stubs for each of these functions.  This is because, while you can implement these naively just through implementing each function separately, though this will end up with a lot of duplicated code.  You're welcome to use e.g., C++ templates or macros to address this problem (but these would only be exposed internally, not to the external interface)."
      ],
      "id": "9df3e8fb"
    },
    {
      "cell_type": "code",
      "execution_count": 7,
      "metadata": {
        "id": "22943d08",
        "colab": {
          "base_uri": "https://localhost:8080/"
        },
        "outputId": "11c5fb05-75e6-46aa-ea51-7b2bca258d2f"
      },
      "outputs": [
        {
          "output_type": "stream",
          "name": "stdout",
          "text": [
            "\u001b[1m======================================= test session starts ========================================\u001b[0m\n",
            "platform linux -- Python 3.10.12, pytest-7.4.4, pluggy-1.4.0 -- /usr/bin/python3\n",
            "cachedir: .pytest_cache\n",
            "benchmark: 4.0.0 (defaults: timer=time.perf_counter disable_gc=False min_rounds=5 min_time=0.000005 max_time=1.0 calibration_precision=10 warmup=False warmup_iterations=100000)\n",
            "rootdir: /content/drive/MyDrive/10714/hw3\n",
            "plugins: benchmark-4.0.0, anyio-3.7.1\n",
            "collected 145 items / 122 deselected / 23 selected                                                 \u001b[0m\n",
            "\n",
            "tests/test_ndarray.py::test_ewise_fn[cpu-shape0-multiply] \u001b[32mPASSED\u001b[0m\u001b[32m                             [  4%]\u001b[0m\n",
            "tests/test_ndarray.py::test_ewise_fn[cpu-shape0-divide] \u001b[32mPASSED\u001b[0m\u001b[32m                               [  8%]\u001b[0m\n",
            "tests/test_ndarray.py::test_ewise_fn[cpu-shape0-add] \u001b[32mPASSED\u001b[0m\u001b[32m                                  [ 13%]\u001b[0m\n",
            "tests/test_ndarray.py::test_ewise_fn[cpu-shape0-subtract] \u001b[32mPASSED\u001b[0m\u001b[32m                             [ 17%]\u001b[0m\n",
            "tests/test_ndarray.py::test_ewise_fn[cpu-shape0-equal] \u001b[32mPASSED\u001b[0m\u001b[32m                                [ 21%]\u001b[0m\n",
            "tests/test_ndarray.py::test_ewise_fn[cpu-shape0-greater_than] \u001b[32mPASSED\u001b[0m\u001b[32m                         [ 26%]\u001b[0m\n",
            "tests/test_ndarray.py::test_ewise_fn[cpu-shape1-multiply] \u001b[32mPASSED\u001b[0m\u001b[32m                             [ 30%]\u001b[0m\n",
            "tests/test_ndarray.py::test_ewise_fn[cpu-shape1-divide] \u001b[32mPASSED\u001b[0m\u001b[32m                               [ 34%]\u001b[0m\n",
            "tests/test_ndarray.py::test_ewise_fn[cpu-shape1-add] \u001b[32mPASSED\u001b[0m\u001b[32m                                  [ 39%]\u001b[0m\n",
            "tests/test_ndarray.py::test_ewise_fn[cpu-shape1-subtract] \u001b[32mPASSED\u001b[0m\u001b[32m                             [ 43%]\u001b[0m\n",
            "tests/test_ndarray.py::test_ewise_fn[cpu-shape1-equal] \u001b[32mPASSED\u001b[0m\u001b[32m                                [ 47%]\u001b[0m\n",
            "tests/test_ndarray.py::test_ewise_fn[cpu-shape1-greater_than] \u001b[32mPASSED\u001b[0m\u001b[32m                         [ 52%]\u001b[0m\n",
            "tests/test_ndarray.py::test_ewise_max[cpu-shape0] \u001b[32mPASSED\u001b[0m\u001b[32m                                     [ 56%]\u001b[0m\n",
            "tests/test_ndarray.py::test_ewise_max[cpu-shape1] \u001b[32mPASSED\u001b[0m\u001b[32m                                     [ 60%]\u001b[0m\n",
            "tests/test_ndarray.py::test_scalar_mul[cpu] \u001b[32mPASSED\u001b[0m\u001b[32m                                           [ 65%]\u001b[0m\n",
            "tests/test_ndarray.py::test_scalar_div[cpu] \u001b[32mPASSED\u001b[0m\u001b[32m                                           [ 69%]\u001b[0m\n",
            "tests/test_ndarray.py::test_scalar_power[cpu] \u001b[32mPASSED\u001b[0m\u001b[32m                                         [ 73%]\u001b[0m\n",
            "tests/test_ndarray.py::test_scalar_maximum[cpu] \u001b[32mPASSED\u001b[0m\u001b[33m                                       [ 78%]\u001b[0m\n",
            "tests/test_ndarray.py::test_scalar_eq[cpu] \u001b[32mPASSED\u001b[0m\u001b[33m                                            [ 82%]\u001b[0m\n",
            "tests/test_ndarray.py::test_scalar_ge[cpu] \u001b[32mPASSED\u001b[0m\u001b[33m                                            [ 86%]\u001b[0m\n",
            "tests/test_ndarray.py::test_ewise_log[cpu] \u001b[32mPASSED\u001b[0m\u001b[33m                                            [ 91%]\u001b[0m\n",
            "tests/test_ndarray.py::test_ewise_exp[cpu] \u001b[32mPASSED\u001b[0m\u001b[33m                                            [ 95%]\u001b[0m\n",
            "tests/test_ndarray.py::test_ewise_tanh[cpu] \u001b[32mPASSED\u001b[0m\u001b[33m                                           [100%]\u001b[0m\n",
            "\n",
            "\u001b[33m========================================= warnings summary =========================================\u001b[0m\n",
            "tests/test_ndarray.py::test_scalar_power[cpu]\n",
            "  /content/drive/MyDrive/10714/hw3/tests/test_ndarray.py:363: RuntimeWarning: invalid value encountered in power\n",
            "    np.testing.assert_allclose(np.power(A, 0.5), (B**0.5).numpy(), atol=1e-5, rtol=1e-5)\n",
            "\n",
            "-- Docs: https://docs.pytest.org/en/stable/how-to/capture-warnings.html\n",
            "\u001b[33m========================== \u001b[32m23 passed\u001b[0m, \u001b[33m\u001b[1m122 deselected\u001b[0m, \u001b[33m\u001b[1m1 warning\u001b[0m\u001b[33m in 0.39s\u001b[0m\u001b[33m ===========================\u001b[0m\n"
          ]
        }
      ],
      "source": [
        "!python3 -m pytest -v -k \"(ewise_fn or ewise_max or log or exp or tanh or (scalar and not setitem)) and cpu\""
      ],
      "id": "22943d08"
    },
    {
      "cell_type": "markdown",
      "metadata": {
        "id": "7be9fe7c"
      },
      "source": [
        "## Part 4: CPU Backend - Reductions\n",
        "\n",
        "\n",
        "Implement the following functions in `ndarray_backend_cpu.cc`:\n",
        "\n",
        "* `ReduceMax()`\n",
        "* `ReduceSum()`\n",
        "\n",
        "In general, the reduction functions `.max()` and `.sum()` in NDArray take the max or sum across a specified axis specified by the `axis` argument (or across the entire array when `axis=None`); note that we don't support axis being a set of axes, though this wouldn't be too hard to add if you desired (but it's not in the interface you should implement for the homework).\n",
        "\n",
        "Because summing over individual axes can be a bit tricky, even for compact arrays, these functions (in Python) in Python simplify things by permuting the last axis to the be the one reduced over (this is what the `reduce_view_out()` function in NDArray does), then compacting the array.  So for your `ReduceMax()` and `ReduceSum()` functions you implement in C++, you can assume that both the input and output arrays are contiguous in memory, and you want to just reduce over contiguous elements of size `reduce_size` as passed to the C++ functions."
      ],
      "id": "7be9fe7c"
    },
    {
      "cell_type": "code",
      "execution_count": 8,
      "metadata": {
        "id": "de5382b3",
        "colab": {
          "base_uri": "https://localhost:8080/"
        },
        "outputId": "1f4df3d8-c2ee-463f-842d-5ac9c9fd2eb0"
      },
      "outputs": [
        {
          "output_type": "stream",
          "name": "stdout",
          "text": [
            "\u001b[1m======================================= test session starts ========================================\u001b[0m\n",
            "platform linux -- Python 3.10.12, pytest-7.4.4, pluggy-1.4.0 -- /usr/bin/python3\n",
            "cachedir: .pytest_cache\n",
            "benchmark: 4.0.0 (defaults: timer=time.perf_counter disable_gc=False min_rounds=5 min_time=0.000005 max_time=1.0 calibration_precision=10 warmup=False warmup_iterations=100000)\n",
            "rootdir: /content/drive/MyDrive/10714/hw3\n",
            "plugins: benchmark-4.0.0, anyio-3.7.1\n",
            "collected 145 items / 137 deselected / 8 selected                                                  \u001b[0m\n",
            "\n",
            "tests/test_ndarray.py::test_reduce_sum[params0-cpu] \u001b[32mPASSED\u001b[0m\u001b[32m                                   [ 12%]\u001b[0m\n",
            "tests/test_ndarray.py::test_reduce_sum[params1-cpu] \u001b[32mPASSED\u001b[0m\u001b[32m                                   [ 25%]\u001b[0m\n",
            "tests/test_ndarray.py::test_reduce_sum[params2-cpu] \u001b[32mPASSED\u001b[0m\u001b[32m                                   [ 37%]\u001b[0m\n",
            "tests/test_ndarray.py::test_reduce_sum[params3-cpu] \u001b[32mPASSED\u001b[0m\u001b[32m                                   [ 50%]\u001b[0m\n",
            "tests/test_ndarray.py::test_reduce_max[params0-cpu] \u001b[32mPASSED\u001b[0m\u001b[32m                                   [ 62%]\u001b[0m\n",
            "tests/test_ndarray.py::test_reduce_max[params1-cpu] \u001b[32mPASSED\u001b[0m\u001b[32m                                   [ 75%]\u001b[0m\n",
            "tests/test_ndarray.py::test_reduce_max[params2-cpu] \u001b[32mPASSED\u001b[0m\u001b[32m                                   [ 87%]\u001b[0m\n",
            "tests/test_ndarray.py::test_reduce_max[params3-cpu] \u001b[32mPASSED\u001b[0m\u001b[32m                                   [100%]\u001b[0m\n",
            "\n",
            "\u001b[32m================================ \u001b[32m\u001b[1m8 passed\u001b[0m, \u001b[33m137 deselected\u001b[0m\u001b[32m in 0.35s\u001b[0m\u001b[32m =================================\u001b[0m\n"
          ]
        }
      ],
      "source": [
        "!python3 -m pytest -v -k \"reduce and cpu\""
      ],
      "id": "de5382b3"
    },
    {
      "cell_type": "markdown",
      "metadata": {
        "id": "35e1e9c0"
      },
      "source": [
        "## Part 5: CPU Backend - Matrix multiplication\n",
        "\n",
        "Implement the following functions in `ndarray_backend_cpu.cc`:\n",
        "\n",
        "* `Matmul()`\n",
        "* `MatmulTiled()`\n",
        "* `AlignedDot()`\n",
        "\n",
        "The first implementation, `Matmul()` can use the naive three-nested-for-loops algorithm for matrix multiplication.  However, the `MatmulTiled()` performs the same matrix multiplication on memory laid out in tiled form, i.e., as a contiguous 4D array\n",
        "```c++\n",
        "float[M/TILE][N/TILE][TILE][TILE];\n",
        "```\n",
        "Note that the Python `__matmul__` code already does the conversion to tiled form when all sizes of the matrix multiplication are divisible by `TILE`, so your code just needs to implement the multiplication in this form.  In order to make the methods efficient, you will want to make use of (after you implement it), the `AlignedDot()` function, which will enable the compiler to efficiently make use of vector operations and proper caching.  The output matrix will also be in the tiled form above, and the Python backend will take care of the conversion to a normal 2D array.\n",
        "\n",
        "Note that in order to get the most speedup possible from you tiled version, you may want to use the clang compiler with colab instead of gcc.  To do this, run the following command before building your code."
      ],
      "id": "35e1e9c0"
    },
    {
      "cell_type": "code",
      "execution_count": 9,
      "metadata": {
        "id": "28771449",
        "colab": {
          "base_uri": "https://localhost:8080/"
        },
        "outputId": "eef583fe-b72b-4e0f-e6bd-6a6812e21fe0"
      },
      "outputs": [
        {
          "output_type": "stream",
          "name": "stdout",
          "text": [
            "\u001b[1m======================================= test session starts ========================================\u001b[0m\n",
            "platform linux -- Python 3.10.12, pytest-7.4.4, pluggy-1.4.0 -- /usr/bin/python3\n",
            "cachedir: .pytest_cache\n",
            "benchmark: 4.0.0 (defaults: timer=time.perf_counter disable_gc=False min_rounds=5 min_time=0.000005 max_time=1.0 calibration_precision=10 warmup=False warmup_iterations=100000)\n",
            "rootdir: /content/drive/MyDrive/10714/hw3\n",
            "plugins: benchmark-4.0.0, anyio-3.7.1\n",
            "collected 145 items / 132 deselected / 13 selected                                                 \u001b[0m\n",
            "\n",
            "tests/test_ndarray.py::test_matmul[16-16-16-cpu] \u001b[32mPASSED\u001b[0m\u001b[32m                                      [  7%]\u001b[0m\n",
            "tests/test_ndarray.py::test_matmul[8-8-8-cpu] \u001b[32mPASSED\u001b[0m\u001b[32m                                         [ 15%]\u001b[0m\n",
            "tests/test_ndarray.py::test_matmul[1-2-3-cpu] \u001b[32mPASSED\u001b[0m\u001b[32m                                         [ 23%]\u001b[0m\n",
            "tests/test_ndarray.py::test_matmul[3-4-5-cpu] \u001b[32mPASSED\u001b[0m\u001b[32m                                         [ 30%]\u001b[0m\n",
            "tests/test_ndarray.py::test_matmul[5-4-3-cpu] \u001b[32mPASSED\u001b[0m\u001b[32m                                         [ 38%]\u001b[0m\n",
            "tests/test_ndarray.py::test_matmul[64-64-64-cpu] \u001b[32mPASSED\u001b[0m\u001b[32m                                      [ 46%]\u001b[0m\n",
            "tests/test_ndarray.py::test_matmul[72-72-72-cpu] \u001b[32mPASSED\u001b[0m\u001b[32m                                      [ 53%]\u001b[0m\n",
            "tests/test_ndarray.py::test_matmul[72-73-74-cpu] \u001b[32mPASSED\u001b[0m\u001b[32m                                      [ 61%]\u001b[0m\n",
            "tests/test_ndarray.py::test_matmul[74-73-72-cpu] \u001b[32mPASSED\u001b[0m\u001b[32m                                      [ 69%]\u001b[0m\n",
            "tests/test_ndarray.py::test_matmul[128-128-128-cpu] \u001b[32mPASSED\u001b[0m\u001b[32m                                   [ 76%]\u001b[0m\n",
            "tests/test_ndarray.py::test_matmul_benchmark[8-8-8-cpu] \u001b[32mPASSED\u001b[0m\u001b[32m                               [ 84%]\u001b[0m\n",
            "tests/test_ndarray.py::test_matmul_benchmark[64-64-64-cpu] \u001b[32mPASSED\u001b[0m\u001b[32m                            [ 92%]\u001b[0m\n",
            "tests/test_ndarray.py::test_matmul_benchmark[128-128-128-cpu] \u001b[32mPASSED\u001b[0m\u001b[32m                         [100%]\u001b[0m\n",
            "\n",
            "\n",
            "\u001b[33m----------------------------------------------------------------------------------------------------- benchmark: 3 tests -----------------------------------------------------------------------------------------------------\u001b[0m\n",
            "Name (time in us)                                 Min                   Max                  Mean              StdDev                Median                 IQR            Outliers          OPS            Rounds  Iterations\n",
            "\u001b[33m------------------------------------------------------------------------------------------------------------------------------------------------------------------------------------------------------------------------------\u001b[0m\n",
            "test_matmul_benchmark[8-8-8-cpu]         \u001b[32m\u001b[1m     44.4000 (1.0)    \u001b[0m\u001b[1m  4,100.5740 (1.02)   \u001b[0m\u001b[32m\u001b[1m     86.2666 (1.0)    \u001b[0m\u001b[32m\u001b[1m   67.3003 (1.0)    \u001b[0m\u001b[32m\u001b[1m     81.8330 (1.0)    \u001b[0m\u001b[32m\u001b[1m    4.6435 (1.0)    \u001b[0m    21;610\u001b[32m\u001b[1m  11,591.9768 (1.0)    \u001b[0m    5417           1\n",
            "test_matmul_benchmark[64-64-64-cpu]      \u001b[1m    397.0810 (8.94)   \u001b[0m\u001b[32m\u001b[1m  4,022.1520 (1.0)    \u001b[0m\u001b[1m    697.1636 (8.08)   \u001b[0m\u001b[1m  211.5942 (3.14)   \u001b[0m\u001b[1m    669.1070 (8.18)   \u001b[0m\u001b[1m   44.1525 (9.51)   \u001b[0m    45;174\u001b[1m   1,434.3835 (0.12)   \u001b[0m    1495           1\n",
            "test_matmul_benchmark[128-128-128-cpu]   \u001b[31m\u001b[1m  2,536.6150 (57.13)  \u001b[0m\u001b[31m\u001b[1m  4,540.5930 (1.13)   \u001b[0m\u001b[31m\u001b[1m  2,987.5179 (34.63)  \u001b[0m\u001b[31m\u001b[1m  601.0880 (8.93)   \u001b[0m\u001b[31m\u001b[1m  2,696.3270 (32.95)  \u001b[0m\u001b[31m\u001b[1m  544.1145 (117.18) \u001b[0m     50;40\u001b[31m\u001b[1m     334.7260 (0.03)   \u001b[0m     252           1\n",
            "\u001b[33m------------------------------------------------------------------------------------------------------------------------------------------------------------------------------------------------------------------------------\u001b[0m\n",
            "\n",
            "Legend:\n",
            "  Outliers: 1 Standard Deviation from Mean; 1.5 IQR (InterQuartile Range) from 1st Quartile and 3rd Quartile.\n",
            "  OPS: Operations Per Second, computed as 1 / Mean\n",
            "\u001b[32m================================ \u001b[32m\u001b[1m13 passed\u001b[0m, \u001b[33m132 deselected\u001b[0m\u001b[32m in 3.81s\u001b[0m\u001b[32m ================================\u001b[0m\n"
          ]
        }
      ],
      "source": [
        "!python3 -m pytest -v -k \"matmul and cpu\""
      ],
      "id": "28771449"
    },
    {
      "cell_type": "markdown",
      "metadata": {
        "id": "c44486db"
      },
      "source": [
        "## Part 6: CUDA Backend - Compact and setitem\n",
        "\n",
        "Implement the following functions in `ndarray_backend_cuda.cu`:\n",
        "* `Compact()`\n",
        "* `EwiseSetitem()`\n",
        "* `ScalarSetitem()`\n",
        "\n",
        "\n",
        "For this portion, you'll implement the compact and setitem calls in the CUDA backend.  This is fairly similar to the C++ version, however, depending on how you implemented that function, there could also be some substantial differences.  We specifically want to highlight a few differences between the C++ and the CUDA implementations, however.\n",
        "\n",
        "First, as with the example functions implemented in the CUDA backend code, for all the functions above you will actually want to implement two functions: the basic functions listed above that you will call from Python, and the corresponding CUDA kernels that will actually perform the computation.  For the most part, we only provide the prototype for the \"base\" function in the `ndarray_backend_cuda.cu` file, and you will need to define and implement the kernel function yourself.  However, to see how these work, for the `Compact()` call we are providing you with the _complete_ `Compact()` call, and the function prototype for the `CompactKernel()` call.\n",
        "\n",
        "One thing you may notice is the seemingly odd use of a `CudaVec` struct, which is a struct used to pass shape/stride parameters.  In the C++ version we used the STL `std::vector` variables to store these inputs (and the same is done in the base `Compact()` call, but CUDA kernels cannot operation on STL vectors, so something else is needed).  Furthermore, although we _could_ convert the vectors to normal CUDA arrays, this would be rather cumbersome, as we would need to call `cudaMalloc()`, pass the parameters as integer pointers, then free them after the calls.  Of course such memory management is needed for the actual underlying data in the array, but it seems like overkill to do it for just passing a variable-sized small tuple of shape/stride values.  The solution is to create a struct that has a \"maximize\" size for the number of dimensions an array can have, and then just store the actual shape/stride data in the first entries of these fields.  This is all done by the included `CudaVec` struct and `VecToCuda()` function, and you can just use these as provided for all the CUDA kernels that require passing shape/strides to the kernel itself.\n",
        "\n",
        "The other (more conceptual) big difference between the C++ and CUDA implementations of `Compact()` is that in C++ you will typically loop over the elements of the non-compact array sequentially, which allows you to perform some optimizations with respect to computing the corresponding indices between the compact and non-compact arrays.  In CUDA, you cannot do this, and will need to implement code that can directly map from an index in the compact array to one in the strided array.\n",
        "\n",
        "As before, we recommend you implement your code in such as way that it can easily be re-used between the `Compact()`, and `Setitem()` calls.  As a short note, remember that if you want to call a (separate, non-kernel) function from kernel code, you need to define it as a `__device__` function.\n"
      ],
      "id": "c44486db"
    },
    {
      "cell_type": "code",
      "execution_count": 10,
      "metadata": {
        "id": "480d127f",
        "colab": {
          "base_uri": "https://localhost:8080/"
        },
        "outputId": "b0bca184-dd05-4523-d66b-881e0fbd6e64"
      },
      "outputs": [
        {
          "output_type": "stream",
          "name": "stdout",
          "text": [
            "\u001b[1m======================================= test session starts ========================================\u001b[0m\n",
            "platform linux -- Python 3.10.12, pytest-7.4.4, pluggy-1.4.0 -- /usr/bin/python3\n",
            "cachedir: .pytest_cache\n",
            "benchmark: 4.0.0 (defaults: timer=time.perf_counter disable_gc=False min_rounds=5 min_time=0.000005 max_time=1.0 calibration_precision=10 warmup=False warmup_iterations=100000)\n",
            "rootdir: /content/drive/MyDrive/10714/hw3\n",
            "plugins: benchmark-4.0.0, anyio-3.7.1\n",
            "collected 145 items / 130 deselected / 15 selected                                                 \u001b[0m\n",
            "\n",
            "tests/test_ndarray.py::test_compact[cuda-transpose] \u001b[32mPASSED\u001b[0m\u001b[32m                                   [  6%]\u001b[0m\n",
            "tests/test_ndarray.py::test_compact[cuda-broadcast_to] \u001b[32mPASSED\u001b[0m\u001b[32m                                [ 13%]\u001b[0m\n",
            "tests/test_ndarray.py::test_compact[cuda-reshape1] \u001b[32mPASSED\u001b[0m\u001b[32m                                    [ 20%]\u001b[0m\n",
            "tests/test_ndarray.py::test_compact[cuda-reshape2] \u001b[32mPASSED\u001b[0m\u001b[32m                                    [ 26%]\u001b[0m\n",
            "tests/test_ndarray.py::test_compact[cuda-reshape3] \u001b[32mPASSED\u001b[0m\u001b[32m                                    [ 33%]\u001b[0m\n",
            "tests/test_ndarray.py::test_compact[cuda-getitem1] \u001b[32mPASSED\u001b[0m\u001b[32m                                    [ 40%]\u001b[0m\n",
            "tests/test_ndarray.py::test_compact[cuda-getitem2] \u001b[32mPASSED\u001b[0m\u001b[32m                                    [ 46%]\u001b[0m\n",
            "tests/test_ndarray.py::test_compact[cuda-transposegetitem] \u001b[32mPASSED\u001b[0m\u001b[32m                            [ 53%]\u001b[0m\n",
            "tests/test_ndarray.py::test_setitem_ewise[cuda-params0] \u001b[32mPASSED\u001b[0m\u001b[32m                               [ 60%]\u001b[0m\n",
            "tests/test_ndarray.py::test_setitem_ewise[cuda-params1] \u001b[32mPASSED\u001b[0m\u001b[32m                               [ 66%]\u001b[0m\n",
            "tests/test_ndarray.py::test_setitem_ewise[cuda-params2] \u001b[32mPASSED\u001b[0m\u001b[32m                               [ 73%]\u001b[0m\n",
            "tests/test_ndarray.py::test_setitem_scalar[cuda-params0] \u001b[32mPASSED\u001b[0m\u001b[32m                              [ 80%]\u001b[0m\n",
            "tests/test_ndarray.py::test_setitem_scalar[cuda-params1] \u001b[32mPASSED\u001b[0m\u001b[32m                              [ 86%]\u001b[0m\n",
            "tests/test_ndarray.py::test_setitem_scalar[cuda-params2] \u001b[32mPASSED\u001b[0m\u001b[32m                              [ 93%]\u001b[0m\n",
            "tests/test_ndarray.py::test_setitem_scalar[cuda-params3] \u001b[32mPASSED\u001b[0m\u001b[32m                              [100%]\u001b[0m\n",
            "\n",
            "\u001b[32m================================ \u001b[32m\u001b[1m15 passed\u001b[0m, \u001b[33m130 deselected\u001b[0m\u001b[32m in 0.65s\u001b[0m\u001b[32m ================================\u001b[0m\n"
          ]
        }
      ],
      "source": [
        "!python3 -m pytest -v -k \"(compact or setitem) and cuda\""
      ],
      "id": "480d127f"
    },
    {
      "cell_type": "markdown",
      "metadata": {
        "id": "7aa2a94a"
      },
      "source": [
        "## Part 7: CUDA Backend - Elementwise and scalar operations\n",
        "\n",
        "Implement the following functions in `ndarray_backend_cuda.cu`:\n",
        "\n",
        "* `EwiseMul()`, `ScalarMul()`\n",
        "* `EwiseDiv()`, `ScalarDiv()`\n",
        "* `ScalarPower()`\n",
        "* `EwiseMaximum()`, `ScalarMaximum()`\n",
        "* `EwiseEq()`, `ScalarEq()`\n",
        "* `EwiseGe()`, `ScalarGe()`\n",
        "* `EwiseLog()`\n",
        "* `EwiseExp()`\n",
        "* `EwiseTanh()`\n",
        "\n",
        "Again, we don't provide these function prototypes, and you're welcome to use C++ templates or macros to make this implementation more compact.  You will also want to uncomment the appropriate regions of the Pybind11 code once you've implemented each function."
      ],
      "id": "7aa2a94a"
    },
    {
      "cell_type": "code",
      "execution_count": 11,
      "metadata": {
        "id": "ee2d6dd8",
        "colab": {
          "base_uri": "https://localhost:8080/"
        },
        "outputId": "b32267f9-0a9c-4a07-b453-df3940a320db"
      },
      "outputs": [
        {
          "output_type": "stream",
          "name": "stdout",
          "text": [
            "\u001b[1m======================================= test session starts ========================================\u001b[0m\n",
            "platform linux -- Python 3.10.12, pytest-7.4.4, pluggy-1.4.0 -- /usr/bin/python3\n",
            "cachedir: .pytest_cache\n",
            "benchmark: 4.0.0 (defaults: timer=time.perf_counter disable_gc=False min_rounds=5 min_time=0.000005 max_time=1.0 calibration_precision=10 warmup=False warmup_iterations=100000)\n",
            "rootdir: /content/drive/MyDrive/10714/hw3\n",
            "plugins: benchmark-4.0.0, anyio-3.7.1\n",
            "collected 145 items / 122 deselected / 23 selected                                                 \u001b[0m\n",
            "\n",
            "tests/test_ndarray.py::test_ewise_fn[cuda-shape0-multiply] \u001b[32mPASSED\u001b[0m\u001b[32m                            [  4%]\u001b[0m\n",
            "tests/test_ndarray.py::test_ewise_fn[cuda-shape0-divide] \u001b[32mPASSED\u001b[0m\u001b[32m                              [  8%]\u001b[0m\n",
            "tests/test_ndarray.py::test_ewise_fn[cuda-shape0-add] \u001b[32mPASSED\u001b[0m\u001b[32m                                 [ 13%]\u001b[0m\n",
            "tests/test_ndarray.py::test_ewise_fn[cuda-shape0-subtract] \u001b[32mPASSED\u001b[0m\u001b[32m                            [ 17%]\u001b[0m\n",
            "tests/test_ndarray.py::test_ewise_fn[cuda-shape0-equal] \u001b[32mPASSED\u001b[0m\u001b[32m                               [ 21%]\u001b[0m\n",
            "tests/test_ndarray.py::test_ewise_fn[cuda-shape0-greater_than] \u001b[32mPASSED\u001b[0m\u001b[32m                        [ 26%]\u001b[0m\n",
            "tests/test_ndarray.py::test_ewise_fn[cuda-shape1-multiply] \u001b[32mPASSED\u001b[0m\u001b[32m                            [ 30%]\u001b[0m\n",
            "tests/test_ndarray.py::test_ewise_fn[cuda-shape1-divide] \u001b[32mPASSED\u001b[0m\u001b[32m                              [ 34%]\u001b[0m\n",
            "tests/test_ndarray.py::test_ewise_fn[cuda-shape1-add] \u001b[32mPASSED\u001b[0m\u001b[32m                                 [ 39%]\u001b[0m\n",
            "tests/test_ndarray.py::test_ewise_fn[cuda-shape1-subtract] \u001b[32mPASSED\u001b[0m\u001b[32m                            [ 43%]\u001b[0m\n",
            "tests/test_ndarray.py::test_ewise_fn[cuda-shape1-equal] \u001b[32mPASSED\u001b[0m\u001b[32m                               [ 47%]\u001b[0m\n",
            "tests/test_ndarray.py::test_ewise_fn[cuda-shape1-greater_than] \u001b[32mPASSED\u001b[0m\u001b[32m                        [ 52%]\u001b[0m\n",
            "tests/test_ndarray.py::test_ewise_max[cuda-shape0] \u001b[32mPASSED\u001b[0m\u001b[32m                                    [ 56%]\u001b[0m\n",
            "tests/test_ndarray.py::test_ewise_max[cuda-shape1] \u001b[32mPASSED\u001b[0m\u001b[32m                                    [ 60%]\u001b[0m\n",
            "tests/test_ndarray.py::test_scalar_mul[cuda] \u001b[32mPASSED\u001b[0m\u001b[32m                                          [ 65%]\u001b[0m\n",
            "tests/test_ndarray.py::test_scalar_div[cuda] \u001b[32mPASSED\u001b[0m\u001b[32m                                          [ 69%]\u001b[0m\n",
            "tests/test_ndarray.py::test_scalar_power[cuda] \u001b[32mPASSED\u001b[0m\u001b[32m                                        [ 73%]\u001b[0m\n",
            "tests/test_ndarray.py::test_scalar_maximum[cuda] \u001b[32mPASSED\u001b[0m\u001b[33m                                      [ 78%]\u001b[0m\n",
            "tests/test_ndarray.py::test_scalar_eq[cuda] \u001b[32mPASSED\u001b[0m\u001b[33m                                           [ 82%]\u001b[0m\n",
            "tests/test_ndarray.py::test_scalar_ge[cuda] \u001b[32mPASSED\u001b[0m\u001b[33m                                           [ 86%]\u001b[0m\n",
            "tests/test_ndarray.py::test_ewise_log[cuda] \u001b[32mPASSED\u001b[0m\u001b[33m                                           [ 91%]\u001b[0m\n",
            "tests/test_ndarray.py::test_ewise_exp[cuda] \u001b[32mPASSED\u001b[0m\u001b[33m                                           [ 95%]\u001b[0m\n",
            "tests/test_ndarray.py::test_ewise_tanh[cuda] \u001b[32mPASSED\u001b[0m\u001b[33m                                          [100%]\u001b[0m\n",
            "\n",
            "\u001b[33m========================================= warnings summary =========================================\u001b[0m\n",
            "tests/test_ndarray.py::test_scalar_power[cuda]\n",
            "  /content/drive/MyDrive/10714/hw3/tests/test_ndarray.py:363: RuntimeWarning: invalid value encountered in power\n",
            "    np.testing.assert_allclose(np.power(A, 0.5), (B**0.5).numpy(), atol=1e-5, rtol=1e-5)\n",
            "\n",
            "-- Docs: https://docs.pytest.org/en/stable/how-to/capture-warnings.html\n",
            "\u001b[33m========================== \u001b[32m23 passed\u001b[0m, \u001b[33m\u001b[1m122 deselected\u001b[0m, \u001b[33m\u001b[1m1 warning\u001b[0m\u001b[33m in 0.60s\u001b[0m\u001b[33m ===========================\u001b[0m\n"
          ]
        }
      ],
      "source": [
        "!python3 -m pytest -v -k \"(ewise_fn or ewise_max or log or exp or tanh or (scalar and not setitem)) and cuda\""
      ],
      "id": "ee2d6dd8"
    },
    {
      "cell_type": "markdown",
      "metadata": {
        "id": "9b7de79b"
      },
      "source": [
        "## Part 8: CUDA Backend - Reductions\n",
        "\n",
        "\n",
        "Implement the following functions in `ndarray_backend_cuda.cu`:\n",
        "\n",
        "* `ReduceMax()`\n",
        "* `ReduceSum()`\n",
        "\n",
        "You can take a fairly simplistic approach here, and just use a separate CUDA thread for each individual reduction item: i.e., if there is a 100 x 20 array you are reducing over the second dimension, you could have 100 threads, each of which individually processed its own 20-dimensional array..  This is particularly inefficient for the `.max(axis=None)` calls, but we won't worry about this for the time being.  If you want a more industrial-grade implementation, you use a hierarchical mechanism that first aggregated across some smaller span, then had a secondary function that aggregated across _these_ reduced arrays, etc.  But this is not needed to pass the tests."
      ],
      "id": "9b7de79b"
    },
    {
      "cell_type": "code",
      "execution_count": 12,
      "metadata": {
        "id": "10239c84",
        "colab": {
          "base_uri": "https://localhost:8080/"
        },
        "outputId": "7dbf0425-bfc6-40ff-f93e-062d51dcde22"
      },
      "outputs": [
        {
          "output_type": "stream",
          "name": "stdout",
          "text": [
            "\u001b[1m======================================= test session starts ========================================\u001b[0m\n",
            "platform linux -- Python 3.10.12, pytest-7.4.4, pluggy-1.4.0 -- /usr/bin/python3\n",
            "cachedir: .pytest_cache\n",
            "benchmark: 4.0.0 (defaults: timer=time.perf_counter disable_gc=False min_rounds=5 min_time=0.000005 max_time=1.0 calibration_precision=10 warmup=False warmup_iterations=100000)\n",
            "rootdir: /content/drive/MyDrive/10714/hw3\n",
            "plugins: benchmark-4.0.0, anyio-3.7.1\n",
            "collected 145 items / 137 deselected / 8 selected                                                  \u001b[0m\n",
            "\n",
            "tests/test_ndarray.py::test_reduce_sum[params0-cuda] \u001b[32mPASSED\u001b[0m\u001b[32m                                  [ 12%]\u001b[0m\n",
            "tests/test_ndarray.py::test_reduce_sum[params1-cuda] \u001b[32mPASSED\u001b[0m\u001b[32m                                  [ 25%]\u001b[0m\n",
            "tests/test_ndarray.py::test_reduce_sum[params2-cuda] \u001b[32mPASSED\u001b[0m\u001b[32m                                  [ 37%]\u001b[0m\n",
            "tests/test_ndarray.py::test_reduce_sum[params3-cuda] \u001b[32mPASSED\u001b[0m\u001b[32m                                  [ 50%]\u001b[0m\n",
            "tests/test_ndarray.py::test_reduce_max[params0-cuda] \u001b[32mPASSED\u001b[0m\u001b[32m                                  [ 62%]\u001b[0m\n",
            "tests/test_ndarray.py::test_reduce_max[params1-cuda] \u001b[32mPASSED\u001b[0m\u001b[32m                                  [ 75%]\u001b[0m\n",
            "tests/test_ndarray.py::test_reduce_max[params2-cuda] \u001b[32mPASSED\u001b[0m\u001b[32m                                  [ 87%]\u001b[0m\n",
            "tests/test_ndarray.py::test_reduce_max[params3-cuda] \u001b[32mPASSED\u001b[0m\u001b[32m                                  [100%]\u001b[0m\n",
            "\n",
            "\u001b[32m================================ \u001b[32m\u001b[1m8 passed\u001b[0m, \u001b[33m137 deselected\u001b[0m\u001b[32m in 0.58s\u001b[0m\u001b[32m =================================\u001b[0m\n"
          ]
        }
      ],
      "source": [
        "!python3 -m pytest -v -k \"reduce and cuda\""
      ],
      "id": "10239c84"
    },
    {
      "cell_type": "markdown",
      "metadata": {
        "id": "01027bb7"
      },
      "source": [
        "## Part 9: CUDA Backend - Matrix multiplication\n",
        "\n",
        "Implement the following functions in `ndarray_backend_cuda.cu`:\n",
        "\n",
        "* `Matmul()`\n",
        "\n",
        "Finally, as your final exercise, you'll implement matrix multiplication on the GPU.  Your implementation here can roughly follow the presentation in class.  While you can pass the tests using fairly naive code here (i.e., you could just have a separate thread for each (i,j) location in the matrix, doing the matrix multiplication efficiently (to make it actually faster than a CPU version) requires cooperative fetching and the block shared memory register tiling covered in class.  Try to implement using these methods, and see how much faster you can get your code than the C++ (or numpy) backends.\n"
      ],
      "id": "01027bb7"
    },
    {
      "cell_type": "code",
      "execution_count": 13,
      "metadata": {
        "id": "aa7b46d6",
        "colab": {
          "base_uri": "https://localhost:8080/"
        },
        "outputId": "7809a63a-cc7f-40a4-f26b-b4708c446362"
      },
      "outputs": [
        {
          "output_type": "stream",
          "name": "stdout",
          "text": [
            "\u001b[1m======================================= test session starts ========================================\u001b[0m\n",
            "platform linux -- Python 3.10.12, pytest-7.4.4, pluggy-1.4.0 -- /usr/bin/python3\n",
            "cachedir: .pytest_cache\n",
            "benchmark: 4.0.0 (defaults: timer=time.perf_counter disable_gc=False min_rounds=5 min_time=0.000005 max_time=1.0 calibration_precision=10 warmup=False warmup_iterations=100000)\n",
            "rootdir: /content/drive/MyDrive/10714/hw3\n",
            "plugins: benchmark-4.0.0, anyio-3.7.1\n",
            "collected 145 items / 132 deselected / 13 selected                                                 \u001b[0m\n",
            "\n",
            "tests/test_ndarray.py::test_matmul[16-16-16-cuda] \u001b[32mPASSED\u001b[0m\u001b[32m                                     [  7%]\u001b[0m\n",
            "tests/test_ndarray.py::test_matmul[8-8-8-cuda] \u001b[32mPASSED\u001b[0m\u001b[32m                                        [ 15%]\u001b[0m\n",
            "tests/test_ndarray.py::test_matmul[1-2-3-cuda] \u001b[32mPASSED\u001b[0m\u001b[32m                                        [ 23%]\u001b[0m\n",
            "tests/test_ndarray.py::test_matmul[3-4-5-cuda] \u001b[32mPASSED\u001b[0m\u001b[32m                                        [ 30%]\u001b[0m\n",
            "tests/test_ndarray.py::test_matmul[5-4-3-cuda] \u001b[32mPASSED\u001b[0m\u001b[32m                                        [ 38%]\u001b[0m\n",
            "tests/test_ndarray.py::test_matmul[64-64-64-cuda] \u001b[32mPASSED\u001b[0m\u001b[32m                                     [ 46%]\u001b[0m\n",
            "tests/test_ndarray.py::test_matmul[72-72-72-cuda] \u001b[32mPASSED\u001b[0m\u001b[32m                                     [ 53%]\u001b[0m\n",
            "tests/test_ndarray.py::test_matmul[72-73-74-cuda] \u001b[32mPASSED\u001b[0m\u001b[32m                                     [ 61%]\u001b[0m\n",
            "tests/test_ndarray.py::test_matmul[74-73-72-cuda] \u001b[32mPASSED\u001b[0m\u001b[32m                                     [ 69%]\u001b[0m\n",
            "tests/test_ndarray.py::test_matmul[128-128-128-cuda] \u001b[32mPASSED\u001b[0m\u001b[32m                                  [ 76%]\u001b[0m\n",
            "tests/test_ndarray.py::test_matmul_benchmark[8-8-8-cuda] \u001b[32mPASSED\u001b[0m\u001b[32m                              [ 84%]\u001b[0m\n",
            "tests/test_ndarray.py::test_matmul_benchmark[64-64-64-cuda] \u001b[32mPASSED\u001b[0m\u001b[32m                           [ 92%]\u001b[0m\n",
            "tests/test_ndarray.py::test_matmul_benchmark[128-128-128-cuda] \u001b[32mPASSED\u001b[0m\u001b[32m                        [100%]\u001b[0m\n",
            "\n",
            "\n",
            "\u001b[33m----------------------------------------------------------------------------------------------- benchmark: 3 tests ----------------------------------------------------------------------------------------------\u001b[0m\n",
            "Name (time in us)                               Min                 Max               Mean            StdDev             Median               IQR            Outliers  OPS (Kops/s)            Rounds  Iterations\n",
            "\u001b[33m-----------------------------------------------------------------------------------------------------------------------------------------------------------------------------------------------------------------\u001b[0m\n",
            "test_matmul_benchmark[8-8-8-cuda]         \u001b[32m\u001b[1m  25.9870 (1.0)    \u001b[0m\u001b[32m\u001b[1m   69.9700 (1.0)    \u001b[0m\u001b[32m\u001b[1m  28.0451 (1.0)    \u001b[0m\u001b[32m\u001b[1m  3.5881 (1.0)    \u001b[0m\u001b[32m\u001b[1m  26.9640 (1.0)    \u001b[0m\u001b[32m\u001b[1m  1.1580 (1.0)    \u001b[0m   492;640\u001b[32m\u001b[1m       35.6569 (1.0)    \u001b[0m    6765           1\n",
            "test_matmul_benchmark[64-64-64-cuda]      \u001b[1m  36.3220 (1.40)   \u001b[0m\u001b[1m  331.5650 (4.74)   \u001b[0m\u001b[1m  45.9486 (1.64)   \u001b[0m\u001b[31m\u001b[1m  9.0314 (2.52)   \u001b[0m\u001b[1m  44.3170 (1.64)   \u001b[0m\u001b[31m\u001b[1m  8.8400 (7.63)   \u001b[0m  1403;281\u001b[1m       21.7635 (0.61)   \u001b[0m   13755           1\n",
            "test_matmul_benchmark[128-128-128-cuda]   \u001b[31m\u001b[1m  43.0530 (1.66)   \u001b[0m\u001b[31m\u001b[1m  343.4460 (4.91)   \u001b[0m\u001b[31m\u001b[1m  48.1773 (1.72)   \u001b[0m\u001b[1m  7.7216 (2.15)   \u001b[0m\u001b[31m\u001b[1m  44.9960 (1.67)   \u001b[0m\u001b[1m  8.1203 (7.01)   \u001b[0m  1129;256\u001b[31m\u001b[1m       20.7567 (0.58)   \u001b[0m   13281           1\n",
            "\u001b[33m-----------------------------------------------------------------------------------------------------------------------------------------------------------------------------------------------------------------\u001b[0m\n",
            "\n",
            "Legend:\n",
            "  Outliers: 1 Standard Deviation from Mean; 1.5 IQR (InterQuartile Range) from 1st Quartile and 3rd Quartile.\n",
            "  OPS: Operations Per Second, computed as 1 / Mean\n",
            "\u001b[32m================================ \u001b[32m\u001b[1m13 passed\u001b[0m, \u001b[33m132 deselected\u001b[0m\u001b[32m in 3.24s\u001b[0m\u001b[32m ================================\u001b[0m\n"
          ]
        }
      ],
      "source": [
        "!python3 -m pytest -v -k \"matmul and cuda\""
      ],
      "id": "aa7b46d6"
    },
    {
      "cell_type": "code",
      "source": [
        "!python3 -m pytest -v"
      ],
      "metadata": {
        "colab": {
          "base_uri": "https://localhost:8080/"
        },
        "id": "qOAPJrof8mxm",
        "outputId": "443255fb-7fec-4c96-874a-8ae9f74a3ca1"
      },
      "id": "qOAPJrof8mxm",
      "execution_count": 14,
      "outputs": [
        {
          "output_type": "stream",
          "name": "stdout",
          "text": [
            "\u001b[1m======================================= test session starts ========================================\u001b[0m\n",
            "platform linux -- Python 3.10.12, pytest-7.4.4, pluggy-1.4.0 -- /usr/bin/python3\n",
            "cachedir: .pytest_cache\n",
            "benchmark: 4.0.0 (defaults: timer=time.perf_counter disable_gc=False min_rounds=5 min_time=0.000005 max_time=1.0 calibration_precision=10 warmup=False warmup_iterations=100000)\n",
            "rootdir: /content/drive/MyDrive/10714/hw3\n",
            "plugins: benchmark-4.0.0, anyio-3.7.1\n",
            "collected 145 items                                                                                \u001b[0m\n",
            "\n",
            "tests/test_ndarray.py::test_compact[cpu-transpose] \u001b[32mPASSED\u001b[0m\u001b[32m                                    [  0%]\u001b[0m\n",
            "tests/test_ndarray.py::test_compact[cpu-broadcast_to] \u001b[32mPASSED\u001b[0m\u001b[32m                                 [  1%]\u001b[0m\n",
            "tests/test_ndarray.py::test_compact[cpu-reshape1] \u001b[32mPASSED\u001b[0m\u001b[32m                                     [  2%]\u001b[0m\n",
            "tests/test_ndarray.py::test_compact[cpu-reshape2] \u001b[32mPASSED\u001b[0m\u001b[32m                                     [  2%]\u001b[0m\n",
            "tests/test_ndarray.py::test_compact[cpu-reshape3] \u001b[32mPASSED\u001b[0m\u001b[32m                                     [  3%]\u001b[0m\n",
            "tests/test_ndarray.py::test_compact[cpu-getitem1] \u001b[32mPASSED\u001b[0m\u001b[32m                                     [  4%]\u001b[0m\n",
            "tests/test_ndarray.py::test_compact[cpu-getitem2] \u001b[32mPASSED\u001b[0m\u001b[32m                                     [  4%]\u001b[0m\n",
            "tests/test_ndarray.py::test_compact[cpu-transposegetitem] \u001b[32mPASSED\u001b[0m\u001b[32m                             [  5%]\u001b[0m\n",
            "tests/test_ndarray.py::test_compact[cuda-transpose] \u001b[32mPASSED\u001b[0m\u001b[32m                                   [  6%]\u001b[0m\n",
            "tests/test_ndarray.py::test_compact[cuda-broadcast_to] \u001b[32mPASSED\u001b[0m\u001b[32m                                [  6%]\u001b[0m\n",
            "tests/test_ndarray.py::test_compact[cuda-reshape1] \u001b[32mPASSED\u001b[0m\u001b[32m                                    [  7%]\u001b[0m\n",
            "tests/test_ndarray.py::test_compact[cuda-reshape2] \u001b[32mPASSED\u001b[0m\u001b[32m                                    [  8%]\u001b[0m\n",
            "tests/test_ndarray.py::test_compact[cuda-reshape3] \u001b[32mPASSED\u001b[0m\u001b[32m                                    [  8%]\u001b[0m\n",
            "tests/test_ndarray.py::test_compact[cuda-getitem1] \u001b[32mPASSED\u001b[0m\u001b[32m                                    [  9%]\u001b[0m\n",
            "tests/test_ndarray.py::test_compact[cuda-getitem2] \u001b[32mPASSED\u001b[0m\u001b[32m                                    [ 10%]\u001b[0m\n",
            "tests/test_ndarray.py::test_compact[cuda-transposegetitem] \u001b[32mPASSED\u001b[0m\u001b[32m                            [ 11%]\u001b[0m\n",
            "tests/test_ndarray.py::test_reduce_sum[params0-cpu] \u001b[32mPASSED\u001b[0m\u001b[32m                                   [ 11%]\u001b[0m\n",
            "tests/test_ndarray.py::test_reduce_sum[params0-cuda] \u001b[32mPASSED\u001b[0m\u001b[32m                                  [ 12%]\u001b[0m\n",
            "tests/test_ndarray.py::test_reduce_sum[params1-cpu] \u001b[32mPASSED\u001b[0m\u001b[32m                                   [ 13%]\u001b[0m\n",
            "tests/test_ndarray.py::test_reduce_sum[params1-cuda] \u001b[32mPASSED\u001b[0m\u001b[32m                                  [ 13%]\u001b[0m\n",
            "tests/test_ndarray.py::test_reduce_sum[params2-cpu] \u001b[32mPASSED\u001b[0m\u001b[32m                                   [ 14%]\u001b[0m\n",
            "tests/test_ndarray.py::test_reduce_sum[params2-cuda] \u001b[32mPASSED\u001b[0m\u001b[32m                                  [ 15%]\u001b[0m\n",
            "tests/test_ndarray.py::test_reduce_sum[params3-cpu] \u001b[32mPASSED\u001b[0m\u001b[32m                                   [ 15%]\u001b[0m\n",
            "tests/test_ndarray.py::test_reduce_sum[params3-cuda] \u001b[32mPASSED\u001b[0m\u001b[32m                                  [ 16%]\u001b[0m\n",
            "tests/test_ndarray.py::test_reduce_max[params0-cpu] \u001b[32mPASSED\u001b[0m\u001b[32m                                   [ 17%]\u001b[0m\n",
            "tests/test_ndarray.py::test_reduce_max[params0-cuda] \u001b[32mPASSED\u001b[0m\u001b[32m                                  [ 17%]\u001b[0m\n",
            "tests/test_ndarray.py::test_reduce_max[params1-cpu] \u001b[32mPASSED\u001b[0m\u001b[32m                                   [ 18%]\u001b[0m\n",
            "tests/test_ndarray.py::test_reduce_max[params1-cuda] \u001b[32mPASSED\u001b[0m\u001b[32m                                  [ 19%]\u001b[0m\n",
            "tests/test_ndarray.py::test_reduce_max[params2-cpu] \u001b[32mPASSED\u001b[0m\u001b[32m                                   [ 20%]\u001b[0m\n",
            "tests/test_ndarray.py::test_reduce_max[params2-cuda] \u001b[32mPASSED\u001b[0m\u001b[32m                                  [ 20%]\u001b[0m\n",
            "tests/test_ndarray.py::test_reduce_max[params3-cpu] \u001b[32mPASSED\u001b[0m\u001b[32m                                   [ 21%]\u001b[0m\n",
            "tests/test_ndarray.py::test_reduce_max[params3-cuda] \u001b[32mPASSED\u001b[0m\u001b[32m                                  [ 22%]\u001b[0m\n",
            "tests/test_ndarray.py::test_setitem_ewise[cpu-params0] \u001b[32mPASSED\u001b[0m\u001b[32m                                [ 22%]\u001b[0m\n",
            "tests/test_ndarray.py::test_setitem_ewise[cpu-params1] \u001b[32mPASSED\u001b[0m\u001b[32m                                [ 23%]\u001b[0m\n",
            "tests/test_ndarray.py::test_setitem_ewise[cpu-params2] \u001b[32mPASSED\u001b[0m\u001b[32m                                [ 24%]\u001b[0m\n",
            "tests/test_ndarray.py::test_setitem_ewise[cuda-params0] \u001b[32mPASSED\u001b[0m\u001b[32m                               [ 24%]\u001b[0m\n",
            "tests/test_ndarray.py::test_setitem_ewise[cuda-params1] \u001b[32mPASSED\u001b[0m\u001b[32m                               [ 25%]\u001b[0m\n",
            "tests/test_ndarray.py::test_setitem_ewise[cuda-params2] \u001b[32mPASSED\u001b[0m\u001b[32m                               [ 26%]\u001b[0m\n",
            "tests/test_ndarray.py::test_setitem_scalar[cpu-params0] \u001b[32mPASSED\u001b[0m\u001b[32m                               [ 26%]\u001b[0m\n",
            "tests/test_ndarray.py::test_setitem_scalar[cpu-params1] \u001b[32mPASSED\u001b[0m\u001b[32m                               [ 27%]\u001b[0m\n",
            "tests/test_ndarray.py::test_setitem_scalar[cpu-params2] \u001b[32mPASSED\u001b[0m\u001b[32m                               [ 28%]\u001b[0m\n",
            "tests/test_ndarray.py::test_setitem_scalar[cpu-params3] \u001b[32mPASSED\u001b[0m\u001b[32m                               [ 28%]\u001b[0m\n",
            "tests/test_ndarray.py::test_setitem_scalar[cuda-params0] \u001b[32mPASSED\u001b[0m\u001b[32m                              [ 29%]\u001b[0m\n",
            "tests/test_ndarray.py::test_setitem_scalar[cuda-params1] \u001b[32mPASSED\u001b[0m\u001b[32m                              [ 30%]\u001b[0m\n",
            "tests/test_ndarray.py::test_setitem_scalar[cuda-params2] \u001b[32mPASSED\u001b[0m\u001b[32m                              [ 31%]\u001b[0m\n",
            "tests/test_ndarray.py::test_setitem_scalar[cuda-params3] \u001b[32mPASSED\u001b[0m\u001b[32m                              [ 31%]\u001b[0m\n",
            "tests/test_ndarray.py::test_matmul_tiled[1-1-1] \u001b[32mPASSED\u001b[0m\u001b[32m                                       [ 32%]\u001b[0m\n",
            "tests/test_ndarray.py::test_matmul_tiled[2-2-3] \u001b[32mPASSED\u001b[0m\u001b[32m                                       [ 33%]\u001b[0m\n",
            "tests/test_ndarray.py::test_matmul_tiled[1-2-1] \u001b[32mPASSED\u001b[0m\u001b[32m                                       [ 33%]\u001b[0m\n",
            "tests/test_ndarray.py::test_matmul_tiled[3-3-3] \u001b[32mPASSED\u001b[0m\u001b[32m                                       [ 34%]\u001b[0m\n",
            "tests/test_ndarray.py::test_ewise_fn[cpu-shape0-multiply] \u001b[32mPASSED\u001b[0m\u001b[32m                             [ 35%]\u001b[0m\n",
            "tests/test_ndarray.py::test_ewise_fn[cpu-shape0-divide] \u001b[32mPASSED\u001b[0m\u001b[32m                               [ 35%]\u001b[0m\n",
            "tests/test_ndarray.py::test_ewise_fn[cpu-shape0-add] \u001b[32mPASSED\u001b[0m\u001b[32m                                  [ 36%]\u001b[0m\n",
            "tests/test_ndarray.py::test_ewise_fn[cpu-shape0-subtract] \u001b[32mPASSED\u001b[0m\u001b[32m                             [ 37%]\u001b[0m\n",
            "tests/test_ndarray.py::test_ewise_fn[cpu-shape0-equal] \u001b[32mPASSED\u001b[0m\u001b[32m                                [ 37%]\u001b[0m\n",
            "tests/test_ndarray.py::test_ewise_fn[cpu-shape0-greater_than] \u001b[32mPASSED\u001b[0m\u001b[32m                         [ 38%]\u001b[0m\n",
            "tests/test_ndarray.py::test_ewise_fn[cpu-shape1-multiply] \u001b[32mPASSED\u001b[0m\u001b[32m                             [ 39%]\u001b[0m\n",
            "tests/test_ndarray.py::test_ewise_fn[cpu-shape1-divide] \u001b[32mPASSED\u001b[0m\u001b[32m                               [ 40%]\u001b[0m\n",
            "tests/test_ndarray.py::test_ewise_fn[cpu-shape1-add] \u001b[32mPASSED\u001b[0m\u001b[32m                                  [ 40%]\u001b[0m\n",
            "tests/test_ndarray.py::test_ewise_fn[cpu-shape1-subtract] \u001b[32mPASSED\u001b[0m\u001b[32m                             [ 41%]\u001b[0m\n",
            "tests/test_ndarray.py::test_ewise_fn[cpu-shape1-equal] \u001b[32mPASSED\u001b[0m\u001b[32m                                [ 42%]\u001b[0m\n",
            "tests/test_ndarray.py::test_ewise_fn[cpu-shape1-greater_than] \u001b[32mPASSED\u001b[0m\u001b[32m                         [ 42%]\u001b[0m\n",
            "tests/test_ndarray.py::test_ewise_fn[cuda-shape0-multiply] \u001b[32mPASSED\u001b[0m\u001b[32m                            [ 43%]\u001b[0m\n",
            "tests/test_ndarray.py::test_ewise_fn[cuda-shape0-divide] \u001b[32mPASSED\u001b[0m\u001b[32m                              [ 44%]\u001b[0m\n",
            "tests/test_ndarray.py::test_ewise_fn[cuda-shape0-add] \u001b[32mPASSED\u001b[0m\u001b[32m                                 [ 44%]\u001b[0m\n",
            "tests/test_ndarray.py::test_ewise_fn[cuda-shape0-subtract] \u001b[32mPASSED\u001b[0m\u001b[32m                            [ 45%]\u001b[0m\n",
            "tests/test_ndarray.py::test_ewise_fn[cuda-shape0-equal] \u001b[32mPASSED\u001b[0m\u001b[32m                               [ 46%]\u001b[0m\n",
            "tests/test_ndarray.py::test_ewise_fn[cuda-shape0-greater_than] \u001b[32mPASSED\u001b[0m\u001b[32m                        [ 46%]\u001b[0m\n",
            "tests/test_ndarray.py::test_ewise_fn[cuda-shape1-multiply] \u001b[32mPASSED\u001b[0m\u001b[32m                            [ 47%]\u001b[0m\n",
            "tests/test_ndarray.py::test_ewise_fn[cuda-shape1-divide] \u001b[32mPASSED\u001b[0m\u001b[32m                              [ 48%]\u001b[0m\n",
            "tests/test_ndarray.py::test_ewise_fn[cuda-shape1-add] \u001b[32mPASSED\u001b[0m\u001b[32m                                 [ 48%]\u001b[0m\n",
            "tests/test_ndarray.py::test_ewise_fn[cuda-shape1-subtract] \u001b[32mPASSED\u001b[0m\u001b[32m                            [ 49%]\u001b[0m\n",
            "tests/test_ndarray.py::test_ewise_fn[cuda-shape1-equal] \u001b[32mPASSED\u001b[0m\u001b[32m                               [ 50%]\u001b[0m\n",
            "tests/test_ndarray.py::test_ewise_fn[cuda-shape1-greater_than] \u001b[32mPASSED\u001b[0m\u001b[32m                        [ 51%]\u001b[0m\n",
            "tests/test_ndarray.py::test_ewise_max[cpu-shape0] \u001b[32mPASSED\u001b[0m\u001b[32m                                     [ 51%]\u001b[0m\n",
            "tests/test_ndarray.py::test_ewise_max[cpu-shape1] \u001b[32mPASSED\u001b[0m\u001b[32m                                     [ 52%]\u001b[0m\n",
            "tests/test_ndarray.py::test_ewise_max[cuda-shape0] \u001b[32mPASSED\u001b[0m\u001b[32m                                    [ 53%]\u001b[0m\n",
            "tests/test_ndarray.py::test_ewise_max[cuda-shape1] \u001b[32mPASSED\u001b[0m\u001b[32m                                    [ 53%]\u001b[0m\n",
            "tests/test_ndarray.py::test_permute[cpu-params0] \u001b[32mPASSED\u001b[0m\u001b[32m                                      [ 54%]\u001b[0m\n",
            "tests/test_ndarray.py::test_permute[cpu-params1] \u001b[32mPASSED\u001b[0m\u001b[32m                                      [ 55%]\u001b[0m\n",
            "tests/test_ndarray.py::test_permute[cpu-params2] \u001b[32mPASSED\u001b[0m\u001b[32m                                      [ 55%]\u001b[0m\n",
            "tests/test_ndarray.py::test_permute[cuda-params0] \u001b[32mPASSED\u001b[0m\u001b[32m                                     [ 56%]\u001b[0m\n",
            "tests/test_ndarray.py::test_permute[cuda-params1] \u001b[32mPASSED\u001b[0m\u001b[32m                                     [ 57%]\u001b[0m\n",
            "tests/test_ndarray.py::test_permute[cuda-params2] \u001b[32mPASSED\u001b[0m\u001b[32m                                     [ 57%]\u001b[0m\n",
            "tests/test_ndarray.py::test_reshape[cpu-params0] \u001b[32mPASSED\u001b[0m\u001b[32m                                      [ 58%]\u001b[0m\n",
            "tests/test_ndarray.py::test_reshape[cpu-params1] \u001b[32mPASSED\u001b[0m\u001b[32m                                      [ 59%]\u001b[0m\n",
            "tests/test_ndarray.py::test_reshape[cuda-params0] \u001b[32mPASSED\u001b[0m\u001b[32m                                     [ 60%]\u001b[0m\n",
            "tests/test_ndarray.py::test_reshape[cuda-params1] \u001b[32mPASSED\u001b[0m\u001b[32m                                     [ 60%]\u001b[0m\n",
            "tests/test_ndarray.py::test_getitem[cpu-params0] \u001b[32mPASSED\u001b[0m\u001b[32m                                      [ 61%]\u001b[0m\n",
            "tests/test_ndarray.py::test_getitem[cpu-params1] \u001b[32mPASSED\u001b[0m\u001b[32m                                      [ 62%]\u001b[0m\n",
            "tests/test_ndarray.py::test_getitem[cpu-params2] \u001b[32mPASSED\u001b[0m\u001b[32m                                      [ 62%]\u001b[0m\n",
            "tests/test_ndarray.py::test_getitem[cpu-params3] \u001b[32mPASSED\u001b[0m\u001b[32m                                      [ 63%]\u001b[0m\n",
            "tests/test_ndarray.py::test_getitem[cuda-params0] \u001b[32mPASSED\u001b[0m\u001b[32m                                     [ 64%]\u001b[0m\n",
            "tests/test_ndarray.py::test_getitem[cuda-params1] \u001b[32mPASSED\u001b[0m\u001b[32m                                     [ 64%]\u001b[0m\n",
            "tests/test_ndarray.py::test_getitem[cuda-params2] \u001b[32mPASSED\u001b[0m\u001b[32m                                     [ 65%]\u001b[0m\n",
            "tests/test_ndarray.py::test_getitem[cuda-params3] \u001b[32mPASSED\u001b[0m\u001b[32m                                     [ 66%]\u001b[0m\n",
            "tests/test_ndarray.py::test_broadcast_to[cpu-params0] \u001b[32mPASSED\u001b[0m\u001b[32m                                 [ 66%]\u001b[0m\n",
            "tests/test_ndarray.py::test_broadcast_to[cuda-params0] \u001b[32mPASSED\u001b[0m\u001b[32m                                [ 67%]\u001b[0m\n",
            "tests/test_ndarray.py::test_matmul[16-16-16-cpu] \u001b[32mPASSED\u001b[0m\u001b[32m                                      [ 68%]\u001b[0m\n",
            "tests/test_ndarray.py::test_matmul[16-16-16-cuda] \u001b[32mPASSED\u001b[0m\u001b[32m                                     [ 68%]\u001b[0m\n",
            "tests/test_ndarray.py::test_matmul[8-8-8-cpu] \u001b[32mPASSED\u001b[0m\u001b[32m                                         [ 69%]\u001b[0m\n",
            "tests/test_ndarray.py::test_matmul[8-8-8-cuda] \u001b[32mPASSED\u001b[0m\u001b[32m                                        [ 70%]\u001b[0m\n",
            "tests/test_ndarray.py::test_matmul[1-2-3-cpu] \u001b[32mPASSED\u001b[0m\u001b[32m                                         [ 71%]\u001b[0m\n",
            "tests/test_ndarray.py::test_matmul[1-2-3-cuda] \u001b[32mPASSED\u001b[0m\u001b[32m                                        [ 71%]\u001b[0m\n",
            "tests/test_ndarray.py::test_matmul[3-4-5-cpu] \u001b[32mPASSED\u001b[0m\u001b[32m                                         [ 72%]\u001b[0m\n",
            "tests/test_ndarray.py::test_matmul[3-4-5-cuda] \u001b[32mPASSED\u001b[0m\u001b[32m                                        [ 73%]\u001b[0m\n",
            "tests/test_ndarray.py::test_matmul[5-4-3-cpu] \u001b[32mPASSED\u001b[0m\u001b[32m                                         [ 73%]\u001b[0m\n",
            "tests/test_ndarray.py::test_matmul[5-4-3-cuda] \u001b[32mPASSED\u001b[0m\u001b[32m                                        [ 74%]\u001b[0m\n",
            "tests/test_ndarray.py::test_matmul[64-64-64-cpu] \u001b[32mPASSED\u001b[0m\u001b[32m                                      [ 75%]\u001b[0m\n",
            "tests/test_ndarray.py::test_matmul[64-64-64-cuda] \u001b[32mPASSED\u001b[0m\u001b[32m                                     [ 75%]\u001b[0m\n",
            "tests/test_ndarray.py::test_matmul[72-72-72-cpu] \u001b[32mPASSED\u001b[0m\u001b[32m                                      [ 76%]\u001b[0m\n",
            "tests/test_ndarray.py::test_matmul[72-72-72-cuda] \u001b[32mPASSED\u001b[0m\u001b[32m                                     [ 77%]\u001b[0m\n",
            "tests/test_ndarray.py::test_matmul[72-73-74-cpu] \u001b[32mPASSED\u001b[0m\u001b[32m                                      [ 77%]\u001b[0m\n",
            "tests/test_ndarray.py::test_matmul[72-73-74-cuda] \u001b[32mPASSED\u001b[0m\u001b[32m                                     [ 78%]\u001b[0m\n",
            "tests/test_ndarray.py::test_matmul[74-73-72-cpu] \u001b[32mPASSED\u001b[0m\u001b[32m                                      [ 79%]\u001b[0m\n",
            "tests/test_ndarray.py::test_matmul[74-73-72-cuda] \u001b[32mPASSED\u001b[0m\u001b[32m                                     [ 80%]\u001b[0m\n",
            "tests/test_ndarray.py::test_matmul[128-128-128-cpu] \u001b[32mPASSED\u001b[0m\u001b[32m                                   [ 80%]\u001b[0m\n",
            "tests/test_ndarray.py::test_matmul[128-128-128-cuda] \u001b[32mPASSED\u001b[0m\u001b[32m                                  [ 81%]\u001b[0m\n",
            "tests/test_ndarray.py::test_matmul_benchmark[8-8-8-cpu] \u001b[32mPASSED\u001b[0m\u001b[32m                               [ 82%]\u001b[0m\n",
            "tests/test_ndarray.py::test_matmul_benchmark[8-8-8-cuda] \u001b[32mPASSED\u001b[0m\u001b[32m                              [ 82%]\u001b[0m\n",
            "tests/test_ndarray.py::test_matmul_benchmark[8-8-8-np] \u001b[32mPASSED\u001b[0m\u001b[32m                                [ 83%]\u001b[0m\n",
            "tests/test_ndarray.py::test_matmul_benchmark[64-64-64-cpu] \u001b[32mPASSED\u001b[0m\u001b[32m                            [ 84%]\u001b[0m\n",
            "tests/test_ndarray.py::test_matmul_benchmark[64-64-64-cuda] \u001b[32mPASSED\u001b[0m\u001b[32m                           [ 84%]\u001b[0m\n",
            "tests/test_ndarray.py::test_matmul_benchmark[64-64-64-np] \u001b[32mPASSED\u001b[0m\u001b[32m                             [ 85%]\u001b[0m\n",
            "tests/test_ndarray.py::test_matmul_benchmark[128-128-128-cpu] \u001b[32mPASSED\u001b[0m\u001b[32m                         [ 86%]\u001b[0m\n",
            "tests/test_ndarray.py::test_matmul_benchmark[128-128-128-cuda] \u001b[32mPASSED\u001b[0m\u001b[32m                        [ 86%]\u001b[0m\n",
            "tests/test_ndarray.py::test_matmul_benchmark[128-128-128-np] \u001b[32mPASSED\u001b[0m\u001b[32m                          [ 87%]\u001b[0m\n",
            "tests/test_ndarray.py::test_scalar_mul[cpu] \u001b[32mPASSED\u001b[0m\u001b[32m                                           [ 88%]\u001b[0m\n",
            "tests/test_ndarray.py::test_scalar_mul[cuda] \u001b[32mPASSED\u001b[0m\u001b[32m                                          [ 88%]\u001b[0m\n",
            "tests/test_ndarray.py::test_scalar_div[cpu] \u001b[32mPASSED\u001b[0m\u001b[32m                                           [ 89%]\u001b[0m\n",
            "tests/test_ndarray.py::test_scalar_div[cuda] \u001b[32mPASSED\u001b[0m\u001b[32m                                          [ 90%]\u001b[0m\n",
            "tests/test_ndarray.py::test_scalar_power[cpu] \u001b[32mPASSED\u001b[0m\u001b[32m                                         [ 91%]\u001b[0m\n",
            "tests/test_ndarray.py::test_scalar_power[cuda] \u001b[32mPASSED\u001b[0m\u001b[33m                                        [ 91%]\u001b[0m\n",
            "tests/test_ndarray.py::test_scalar_maximum[cpu] \u001b[32mPASSED\u001b[0m\u001b[33m                                       [ 92%]\u001b[0m\n",
            "tests/test_ndarray.py::test_scalar_maximum[cuda] \u001b[32mPASSED\u001b[0m\u001b[33m                                      [ 93%]\u001b[0m\n",
            "tests/test_ndarray.py::test_scalar_eq[cpu] \u001b[32mPASSED\u001b[0m\u001b[33m                                            [ 93%]\u001b[0m\n",
            "tests/test_ndarray.py::test_scalar_eq[cuda] \u001b[32mPASSED\u001b[0m\u001b[33m                                           [ 94%]\u001b[0m\n",
            "tests/test_ndarray.py::test_scalar_ge[cpu] \u001b[32mPASSED\u001b[0m\u001b[33m                                            [ 95%]\u001b[0m\n",
            "tests/test_ndarray.py::test_scalar_ge[cuda] \u001b[32mPASSED\u001b[0m\u001b[33m                                           [ 95%]\u001b[0m\n",
            "tests/test_ndarray.py::test_ewise_log[cpu] \u001b[32mPASSED\u001b[0m\u001b[33m                                            [ 96%]\u001b[0m\n",
            "tests/test_ndarray.py::test_ewise_log[cuda] \u001b[32mPASSED\u001b[0m\u001b[33m                                           [ 97%]\u001b[0m\n",
            "tests/test_ndarray.py::test_ewise_exp[cpu] \u001b[32mPASSED\u001b[0m\u001b[33m                                            [ 97%]\u001b[0m\n",
            "tests/test_ndarray.py::test_ewise_exp[cuda] \u001b[32mPASSED\u001b[0m\u001b[33m                                           [ 98%]\u001b[0m\n",
            "tests/test_ndarray.py::test_ewise_tanh[cpu] \u001b[32mPASSED\u001b[0m\u001b[33m                                           [ 99%]\u001b[0m\n",
            "tests/test_ndarray.py::test_ewise_tanh[cuda] \u001b[32mPASSED\u001b[0m\u001b[33m                                          [100%]\u001b[0m\n",
            "\n",
            "\u001b[33m========================================= warnings summary =========================================\u001b[0m\n",
            "tests/test_ndarray.py::test_scalar_power[cpu]\n",
            "tests/test_ndarray.py::test_scalar_power[cuda]\n",
            "  /content/drive/MyDrive/10714/hw3/tests/test_ndarray.py:363: RuntimeWarning: invalid value encountered in power\n",
            "    np.testing.assert_allclose(np.power(A, 0.5), (B**0.5).numpy(), atol=1e-5, rtol=1e-5)\n",
            "\n",
            "-- Docs: https://docs.pytest.org/en/stable/how-to/capture-warnings.html\n",
            "\n",
            "\u001b[33m------------------------------------------------------------------------------------------------------ benchmark: 9 tests ------------------------------------------------------------------------------------------------------\u001b[0m\n",
            "Name (time in us)                                  Min                    Max                  Mean              StdDev                Median                 IQR            Outliers          OPS            Rounds  Iterations\n",
            "\u001b[33m--------------------------------------------------------------------------------------------------------------------------------------------------------------------------------------------------------------------------------\u001b[0m\n",
            "test_matmul_benchmark[8-8-8-np]           \u001b[32m\u001b[1m     13.8750 (1.0)    \u001b[0m\u001b[1m   2,075.3250 (21.94)  \u001b[0m\u001b[32m\u001b[1m     26.2148 (1.0)    \u001b[0m\u001b[1m   33.2074 (6.07)   \u001b[0m\u001b[32m\u001b[1m     24.6950 (1.0)    \u001b[0m\u001b[1m    3.4110 (2.07)   \u001b[0m   46;1527\u001b[32m\u001b[1m  38,146.3582 (1.0)    \u001b[0m   16190           1\n",
            "test_matmul_benchmark[64-64-64-np]        \u001b[1m     23.0750 (1.66)   \u001b[0m\u001b[32m\u001b[1m      94.5890 (1.0)    \u001b[0m\u001b[1m     27.4558 (1.05)   \u001b[0m\u001b[32m\u001b[1m    5.4750 (1.0)    \u001b[0m\u001b[1m     26.0135 (1.05)   \u001b[0m\u001b[1m    2.1060 (1.28)   \u001b[0m  921;1157\u001b[1m  36,422.1979 (0.95)   \u001b[0m   10006           1\n",
            "test_matmul_benchmark[8-8-8-cuda]         \u001b[1m     26.3360 (1.90)   \u001b[0m\u001b[1m   4,105.0390 (43.40)  \u001b[0m\u001b[1m     41.6583 (1.59)   \u001b[0m\u001b[1m   62.6444 (11.44)  \u001b[0m\u001b[1m     38.0950 (1.54)   \u001b[0m\u001b[32m\u001b[1m    1.6510 (1.0)    \u001b[0m   49;1370\u001b[1m  24,004.8016 (0.63)   \u001b[0m   11778           1\n",
            "test_matmul_benchmark[64-64-64-cuda]      \u001b[1m     38.2600 (2.76)   \u001b[0m\u001b[1m     926.1220 (9.79)   \u001b[0m\u001b[1m     47.3874 (1.81)   \u001b[0m\u001b[1m   12.6465 (2.31)   \u001b[0m\u001b[1m     48.3010 (1.96)   \u001b[0m\u001b[1m    5.7550 (3.49)   \u001b[0m   598;721\u001b[1m  21,102.6453 (0.55)   \u001b[0m   12373           1\n",
            "test_matmul_benchmark[128-128-128-cuda]   \u001b[1m     43.0380 (3.10)   \u001b[0m\u001b[1m     155.0600 (1.64)   \u001b[0m\u001b[1m     54.4054 (2.08)   \u001b[0m\u001b[1m   10.1286 (1.85)   \u001b[0m\u001b[1m     56.7390 (2.30)   \u001b[0m\u001b[1m   14.4540 (8.75)   \u001b[0m   3985;67\u001b[1m  18,380.5446 (0.48)   \u001b[0m    9567           1\n",
            "test_matmul_benchmark[8-8-8-cpu]          \u001b[1m     44.5180 (3.21)   \u001b[0m\u001b[1m   2,058.9110 (21.77)  \u001b[0m\u001b[1m     86.0811 (3.28)   \u001b[0m\u001b[1m   46.9975 (8.58)   \u001b[0m\u001b[1m     83.1560 (3.37)   \u001b[0m\u001b[1m    6.8050 (4.12)   \u001b[0m    36;674\u001b[1m  11,616.9554 (0.30)   \u001b[0m    5029           1\n",
            "test_matmul_benchmark[128-128-128-np]     \u001b[1m     87.3320 (6.29)   \u001b[0m\u001b[31m\u001b[1m  18,126.2830 (191.63) \u001b[0m\u001b[1m    117.3459 (4.48)   \u001b[0m\u001b[31m\u001b[1m  336.8135 (61.52)  \u001b[0m\u001b[1m    100.2650 (4.06)   \u001b[0m\u001b[1m    8.9770 (5.44)   \u001b[0m    20;339\u001b[1m   8,521.8156 (0.22)   \u001b[0m    5093           1\n",
            "test_matmul_benchmark[64-64-64-cpu]       \u001b[1m    393.2440 (28.34)  \u001b[0m\u001b[1m   6,962.1360 (73.60)  \u001b[0m\u001b[1m    596.6784 (22.76)  \u001b[0m\u001b[1m  266.8076 (48.73)  \u001b[0m\u001b[1m    646.1210 (26.16)  \u001b[0m\u001b[31m\u001b[1m  269.6120 (163.30) \u001b[0m     28;16\u001b[1m   1,675.9447 (0.04)   \u001b[0m    1369           1\n",
            "test_matmul_benchmark[128-128-128-cpu]    \u001b[31m\u001b[1m  2,539.5550 (183.03) \u001b[0m\u001b[1m   4,467.8320 (47.23)  \u001b[0m\u001b[31m\u001b[1m  2,740.5949 (104.54) \u001b[0m\u001b[1m  330.3136 (60.33)  \u001b[0m\u001b[31m\u001b[1m  2,623.7770 (106.25) \u001b[0m\u001b[1m  190.2092 (115.21) \u001b[0m     32;34\u001b[31m\u001b[1m     364.8843 (0.01)   \u001b[0m     385           1\n",
            "\u001b[33m--------------------------------------------------------------------------------------------------------------------------------------------------------------------------------------------------------------------------------\u001b[0m\n",
            "\n",
            "Legend:\n",
            "  Outliers: 1 Standard Deviation from Mean; 1.5 IQR (InterQuartile Range) from 1st Quartile and 3rd Quartile.\n",
            "  OPS: Operations Per Second, computed as 1 / Mean\n",
            "\u001b[33m================================= \u001b[32m145 passed\u001b[0m, \u001b[33m\u001b[1m2 warnings\u001b[0m\u001b[33m in 7.42s\u001b[0m\u001b[33m ==================================\u001b[0m\n"
          ]
        }
      ]
    },
    {
      "cell_type": "code",
      "source": [
        "!make"
      ],
      "metadata": {
        "colab": {
          "base_uri": "https://localhost:8080/"
        },
        "id": "HR_520RiV90O",
        "outputId": "964f703b-b0b3-4e9f-df53-717a997677bd"
      },
      "id": "HR_520RiV90O",
      "execution_count": 15,
      "outputs": [
        {
          "output_type": "stream",
          "name": "stdout",
          "text": [
            "-- Found pybind11: /usr/local/lib/python3.10/dist-packages/pybind11/include (found version \"2.11.1\")\n",
            "\u001b[33mCMake Warning (dev) at CMakeLists.txt:55 (find_package):\n",
            "  Policy CMP0146 is not set: The FindCUDA module is removed.  Run \"cmake\n",
            "  --help-policy CMP0146\" for policy details.  Use the cmake_policy command to\n",
            "  set the policy and suppress this warning.\n",
            "\n",
            "This warning is for project developers.  Use -Wno-dev to suppress it.\n",
            "\u001b[0m\n",
            "-- Found cuda, building cuda backend\n",
            "Tue Jan 30 22:29:30 2024       \n",
            "+---------------------------------------------------------------------------------------+\n",
            "| NVIDIA-SMI 535.104.05             Driver Version: 535.104.05   CUDA Version: 12.2     |\n",
            "|-----------------------------------------+----------------------+----------------------+\n",
            "| GPU  Name                 Persistence-M | Bus-Id        Disp.A | Volatile Uncorr. ECC |\n",
            "| Fan  Temp   Perf          Pwr:Usage/Cap |         Memory-Usage | GPU-Util  Compute M. |\n",
            "|                                         |                      |               MIG M. |\n",
            "|=========================================+======================+======================|\n",
            "|   0  Tesla T4                       Off | 00000000:00:04.0 Off |                    0 |\n",
            "| N/A   52C    P0              35W /  70W |      0MiB / 15360MiB |      0%      Default |\n",
            "|                                         |                      |                  N/A |\n",
            "+-----------------------------------------+----------------------+----------------------+\n",
            "                                                                                         \n",
            "+---------------------------------------------------------------------------------------+\n",
            "| Processes:                                                                            |\n",
            "|  GPU   GI   CI        PID   Type   Process name                            GPU Memory |\n",
            "|        ID   ID                                                             Usage      |\n",
            "|=======================================================================================|\n",
            "|  No running processes found                                                           |\n",
            "+---------------------------------------------------------------------------------------+\n",
            "-- Autodetected CUDA architecture(s):  7.5\n",
            "-- Configuring done (0.3s)\n",
            "-- Generating done (0.3s)\n",
            "-- Build files have been written to: /content/drive/MyDrive/10714/hw3/build\n",
            "make[1]: Entering directory '/content/drive/MyDrive/10714/hw3/build'\n",
            "make[2]: Entering directory '/content/drive/MyDrive/10714/hw3/build'\n",
            "make[3]: Entering directory '/content/drive/MyDrive/10714/hw3/build'\n",
            "make[3]: Leaving directory '/content/drive/MyDrive/10714/hw3/build'\n",
            "[  0%] Built target ndarray_backend_cpu\n",
            "make[3]: Entering directory '/content/drive/MyDrive/10714/hw3/build'\n",
            "make[3]: Leaving directory '/content/drive/MyDrive/10714/hw3/build'\n",
            "make[3]: Entering directory '/content/drive/MyDrive/10714/hw3/build'\n",
            "[ 25%] \u001b[32m\u001b[1mLinking CXX shared module /content/drive/MyDrive/10714/hw3/python/needle/backend_ndarray/ndarray_backend_cuda.cpython-310-x86_64-linux-gnu.so\u001b[0m\n",
            "make[3]: Leaving directory '/content/drive/MyDrive/10714/hw3/build'\n",
            "[ 50%] Built target ndarray_backend_cuda\n",
            "make[2]: Leaving directory '/content/drive/MyDrive/10714/hw3/build'\n",
            "make[1]: Leaving directory '/content/drive/MyDrive/10714/hw3/build'\n"
          ]
        }
      ]
    },
    {
      "cell_type": "code",
      "source": [
        "!python3 -m pytest -v -k \"matmul and cuda\""
      ],
      "metadata": {
        "colab": {
          "base_uri": "https://localhost:8080/"
        },
        "id": "PnxLjsuqZLR9",
        "outputId": "b707fd33-355c-40a7-d0f0-e8459f38c59f"
      },
      "id": "PnxLjsuqZLR9",
      "execution_count": 16,
      "outputs": [
        {
          "output_type": "stream",
          "name": "stdout",
          "text": [
            "\u001b[1m======================================= test session starts ========================================\u001b[0m\n",
            "platform linux -- Python 3.10.12, pytest-7.4.4, pluggy-1.4.0 -- /usr/bin/python3\n",
            "cachedir: .pytest_cache\n",
            "benchmark: 4.0.0 (defaults: timer=time.perf_counter disable_gc=False min_rounds=5 min_time=0.000005 max_time=1.0 calibration_precision=10 warmup=False warmup_iterations=100000)\n",
            "rootdir: /content/drive/MyDrive/10714/hw3\n",
            "plugins: benchmark-4.0.0, anyio-3.7.1\n",
            "collected 145 items / 132 deselected / 13 selected                                                 \u001b[0m\n",
            "\n",
            "tests/test_ndarray.py::test_matmul[16-16-16-cuda] \u001b[32mPASSED\u001b[0m\u001b[32m                                     [  7%]\u001b[0m\n",
            "tests/test_ndarray.py::test_matmul[8-8-8-cuda] \u001b[32mPASSED\u001b[0m\u001b[32m                                        [ 15%]\u001b[0m\n",
            "tests/test_ndarray.py::test_matmul[1-2-3-cuda] \u001b[32mPASSED\u001b[0m\u001b[32m                                        [ 23%]\u001b[0m\n",
            "tests/test_ndarray.py::test_matmul[3-4-5-cuda] \u001b[32mPASSED\u001b[0m\u001b[32m                                        [ 30%]\u001b[0m\n",
            "tests/test_ndarray.py::test_matmul[5-4-3-cuda] \u001b[32mPASSED\u001b[0m\u001b[32m                                        [ 38%]\u001b[0m\n",
            "tests/test_ndarray.py::test_matmul[64-64-64-cuda] \u001b[32mPASSED\u001b[0m\u001b[32m                                     [ 46%]\u001b[0m\n",
            "tests/test_ndarray.py::test_matmul[72-72-72-cuda] \u001b[32mPASSED\u001b[0m\u001b[32m                                     [ 53%]\u001b[0m\n",
            "tests/test_ndarray.py::test_matmul[72-73-74-cuda] \u001b[32mPASSED\u001b[0m\u001b[32m                                     [ 61%]\u001b[0m\n",
            "tests/test_ndarray.py::test_matmul[74-73-72-cuda] \u001b[32mPASSED\u001b[0m\u001b[32m                                     [ 69%]\u001b[0m\n",
            "tests/test_ndarray.py::test_matmul[128-128-128-cuda] \u001b[32mPASSED\u001b[0m\u001b[32m                                  [ 76%]\u001b[0m\n",
            "tests/test_ndarray.py::test_matmul_benchmark[8-8-8-cuda] \u001b[32mPASSED\u001b[0m\u001b[32m                              [ 84%]\u001b[0m\n",
            "tests/test_ndarray.py::test_matmul_benchmark[64-64-64-cuda] \u001b[32mPASSED\u001b[0m\u001b[32m                           [ 92%]\u001b[0m\n",
            "tests/test_ndarray.py::test_matmul_benchmark[128-128-128-cuda] \u001b[32mPASSED\u001b[0m\u001b[32m                        [100%]\u001b[0m\n",
            "\n",
            "\n",
            "\u001b[33m------------------------------------------------------------------------------------------------ benchmark: 3 tests ------------------------------------------------------------------------------------------------\u001b[0m\n",
            "Name (time in us)                               Min                   Max               Mean             StdDev             Median               IQR            Outliers  OPS (Kops/s)            Rounds  Iterations\n",
            "\u001b[33m--------------------------------------------------------------------------------------------------------------------------------------------------------------------------------------------------------------------\u001b[0m\n",
            "test_matmul_benchmark[8-8-8-cuda]         \u001b[32m\u001b[1m  25.9420 (1.0)    \u001b[0m\u001b[32m\u001b[1m     98.2020 (1.0)    \u001b[0m\u001b[32m\u001b[1m  28.7332 (1.0)    \u001b[0m\u001b[32m\u001b[1m   5.1003 (1.0)    \u001b[0m\u001b[32m\u001b[1m  26.7270 (1.0)    \u001b[0m\u001b[32m\u001b[1m  1.0728 (1.0)    \u001b[0m  836;1156\u001b[32m\u001b[1m       34.8030 (1.0)    \u001b[0m    6855           1\n",
            "test_matmul_benchmark[64-64-64-cuda]      \u001b[1m  35.2790 (1.36)   \u001b[0m\u001b[1m    829.0270 (8.44)   \u001b[0m\u001b[1m  45.3280 (1.58)   \u001b[0m\u001b[1m  10.3011 (2.02)   \u001b[0m\u001b[1m  43.3620 (1.62)   \u001b[0m\u001b[31m\u001b[1m  9.2380 (8.61)   \u001b[0m   899;389\u001b[1m       22.0614 (0.63)   \u001b[0m   14041           1\n",
            "test_matmul_benchmark[128-128-128-cuda]   \u001b[31m\u001b[1m  43.1340 (1.66)   \u001b[0m\u001b[31m\u001b[1m  6,983.7980 (71.12)  \u001b[0m\u001b[31m\u001b[1m  57.3659 (2.00)   \u001b[0m\u001b[31m\u001b[1m  81.3881 (15.96)  \u001b[0m\u001b[31m\u001b[1m  54.5625 (2.04)   \u001b[0m\u001b[1m  5.3000 (4.94)   \u001b[0m    22;920\u001b[31m\u001b[1m       17.4320 (0.50)   \u001b[0m   12422           1\n",
            "\u001b[33m--------------------------------------------------------------------------------------------------------------------------------------------------------------------------------------------------------------------\u001b[0m\n",
            "\n",
            "Legend:\n",
            "  Outliers: 1 Standard Deviation from Mean; 1.5 IQR (InterQuartile Range) from 1st Quartile and 3rd Quartile.\n",
            "  OPS: Operations Per Second, computed as 1 / Mean\n",
            "\u001b[32m================================ \u001b[32m\u001b[1m13 passed\u001b[0m, \u001b[33m132 deselected\u001b[0m\u001b[32m in 3.41s\u001b[0m\u001b[32m ================================\u001b[0m\n"
          ]
        }
      ]
    },
    {
      "cell_type": "code",
      "source": [
        "!make && python3 -m pytest -v -k \"matmul_benchmark\""
      ],
      "metadata": {
        "colab": {
          "base_uri": "https://localhost:8080/"
        },
        "id": "HqEHd__9ARWE",
        "outputId": "f9eb7436-1fa5-4913-fac3-9d51cdfe70a2"
      },
      "id": "HqEHd__9ARWE",
      "execution_count": 17,
      "outputs": [
        {
          "output_type": "stream",
          "name": "stdout",
          "text": [
            "-- Found pybind11: /usr/local/lib/python3.10/dist-packages/pybind11/include (found version \"2.11.1\")\n",
            "\u001b[33mCMake Warning (dev) at CMakeLists.txt:55 (find_package):\n",
            "  Policy CMP0146 is not set: The FindCUDA module is removed.  Run \"cmake\n",
            "  --help-policy CMP0146\" for policy details.  Use the cmake_policy command to\n",
            "  set the policy and suppress this warning.\n",
            "\n",
            "This warning is for project developers.  Use -Wno-dev to suppress it.\n",
            "\u001b[0m\n",
            "-- Found cuda, building cuda backend\n",
            "Tue Jan 30 22:29:37 2024       \n",
            "+---------------------------------------------------------------------------------------+\n",
            "| NVIDIA-SMI 535.104.05             Driver Version: 535.104.05   CUDA Version: 12.2     |\n",
            "|-----------------------------------------+----------------------+----------------------+\n",
            "| GPU  Name                 Persistence-M | Bus-Id        Disp.A | Volatile Uncorr. ECC |\n",
            "| Fan  Temp   Perf          Pwr:Usage/Cap |         Memory-Usage | GPU-Util  Compute M. |\n",
            "|                                         |                      |               MIG M. |\n",
            "|=========================================+======================+======================|\n",
            "|   0  Tesla T4                       Off | 00000000:00:04.0 Off |                    0 |\n",
            "| N/A   53C    P0              35W /  70W |      0MiB / 15360MiB |      0%      Default |\n",
            "|                                         |                      |                  N/A |\n",
            "+-----------------------------------------+----------------------+----------------------+\n",
            "                                                                                         \n",
            "+---------------------------------------------------------------------------------------+\n",
            "| Processes:                                                                            |\n",
            "|  GPU   GI   CI        PID   Type   Process name                            GPU Memory |\n",
            "|        ID   ID                                                             Usage      |\n",
            "|=======================================================================================|\n",
            "|  No running processes found                                                           |\n",
            "+---------------------------------------------------------------------------------------+\n",
            "-- Autodetected CUDA architecture(s):  7.5\n",
            "-- Configuring done (0.4s)\n",
            "-- Generating done (0.3s)\n",
            "-- Build files have been written to: /content/drive/MyDrive/10714/hw3/build\n",
            "make[1]: Entering directory '/content/drive/MyDrive/10714/hw3/build'\n",
            "make[2]: Entering directory '/content/drive/MyDrive/10714/hw3/build'\n",
            "make[3]: Entering directory '/content/drive/MyDrive/10714/hw3/build'\n",
            "make[3]: Leaving directory '/content/drive/MyDrive/10714/hw3/build'\n",
            "[  0%] Built target ndarray_backend_cpu\n",
            "make[3]: Entering directory '/content/drive/MyDrive/10714/hw3/build'\n",
            "make[3]: Leaving directory '/content/drive/MyDrive/10714/hw3/build'\n",
            "[ 50%] Built target ndarray_backend_cuda\n",
            "make[2]: Leaving directory '/content/drive/MyDrive/10714/hw3/build'\n",
            "make[1]: Leaving directory '/content/drive/MyDrive/10714/hw3/build'\n",
            "\u001b[1m======================================= test session starts ========================================\u001b[0m\n",
            "platform linux -- Python 3.10.12, pytest-7.4.4, pluggy-1.4.0 -- /usr/bin/python3\n",
            "cachedir: .pytest_cache\n",
            "benchmark: 4.0.0 (defaults: timer=time.perf_counter disable_gc=False min_rounds=5 min_time=0.000005 max_time=1.0 calibration_precision=10 warmup=False warmup_iterations=100000)\n",
            "rootdir: /content/drive/MyDrive/10714/hw3\n",
            "plugins: benchmark-4.0.0, anyio-3.7.1\n",
            "collected 145 items / 136 deselected / 9 selected                                                  \u001b[0m\n",
            "\n",
            "tests/test_ndarray.py::test_matmul_benchmark[8-8-8-cpu] \u001b[32mPASSED\u001b[0m\u001b[32m                               [ 11%]\u001b[0m\n",
            "tests/test_ndarray.py::test_matmul_benchmark[8-8-8-cuda] \u001b[32mPASSED\u001b[0m\u001b[32m                              [ 22%]\u001b[0m\n",
            "tests/test_ndarray.py::test_matmul_benchmark[8-8-8-np] \u001b[32mPASSED\u001b[0m\u001b[32m                                [ 33%]\u001b[0m\n",
            "tests/test_ndarray.py::test_matmul_benchmark[64-64-64-cpu] \u001b[32mPASSED\u001b[0m\u001b[32m                            [ 44%]\u001b[0m\n",
            "tests/test_ndarray.py::test_matmul_benchmark[64-64-64-cuda] \u001b[32mPASSED\u001b[0m\u001b[32m                           [ 55%]\u001b[0m\n",
            "tests/test_ndarray.py::test_matmul_benchmark[64-64-64-np] \u001b[32mPASSED\u001b[0m\u001b[32m                             [ 66%]\u001b[0m\n",
            "tests/test_ndarray.py::test_matmul_benchmark[128-128-128-cpu] \u001b[32mPASSED\u001b[0m\u001b[32m                         [ 77%]\u001b[0m\n",
            "tests/test_ndarray.py::test_matmul_benchmark[128-128-128-cuda] \u001b[32mPASSED\u001b[0m\u001b[32m                        [ 88%]\u001b[0m\n",
            "tests/test_ndarray.py::test_matmul_benchmark[128-128-128-np] \u001b[32mPASSED\u001b[0m\u001b[32m                          [100%]\u001b[0m\n",
            "\n",
            "\n",
            "\u001b[33m------------------------------------------------------------------------------------------------------ benchmark: 9 tests -----------------------------------------------------------------------------------------------------\u001b[0m\n",
            "Name (time in us)                                  Min                   Max                  Mean              StdDev                Median                 IQR            Outliers          OPS            Rounds  Iterations\n",
            "\u001b[33m-------------------------------------------------------------------------------------------------------------------------------------------------------------------------------------------------------------------------------\u001b[0m\n",
            "test_matmul_benchmark[8-8-8-np]           \u001b[32m\u001b[1m     13.2300 (1.0)    \u001b[0m\u001b[1m    154.4880 (2.32)   \u001b[0m\u001b[32m\u001b[1m     15.4506 (1.0)    \u001b[0m\u001b[1m    4.0896 (1.36)   \u001b[0m\u001b[32m\u001b[1m     14.8140 (1.0)    \u001b[0m\u001b[1m    1.4280 (2.54)   \u001b[0m 1049;1282\u001b[32m\u001b[1m  64,722.3025 (1.0)    \u001b[0m   12105           1\n",
            "test_matmul_benchmark[64-64-64-np]        \u001b[1m     23.7670 (1.80)   \u001b[0m\u001b[1m    251.6360 (3.78)   \u001b[0m\u001b[1m     29.1576 (1.89)   \u001b[0m\u001b[1m    7.9024 (2.62)   \u001b[0m\u001b[1m     26.8620 (1.81)   \u001b[0m\u001b[1m    3.8933 (6.92)   \u001b[0m 1475;1631\u001b[1m  34,296.3218 (0.53)   \u001b[0m   13185           1\n",
            "test_matmul_benchmark[8-8-8-cuda]         \u001b[1m     26.2370 (1.98)   \u001b[0m\u001b[32m\u001b[1m     66.5320 (1.0)    \u001b[0m\u001b[1m     27.6559 (1.79)   \u001b[0m\u001b[32m\u001b[1m    3.0159 (1.0)    \u001b[0m\u001b[1m     26.8860 (1.81)   \u001b[0m\u001b[32m\u001b[1m    0.5630 (1.0)    \u001b[0m    73;123\u001b[1m  36,158.6603 (0.56)   \u001b[0m    1138           1\n",
            "test_matmul_benchmark[64-64-64-cuda]      \u001b[1m     38.7060 (2.93)   \u001b[0m\u001b[1m    238.8840 (3.59)   \u001b[0m\u001b[1m     46.9233 (3.04)   \u001b[0m\u001b[1m    6.8610 (2.27)   \u001b[0m\u001b[1m     47.4140 (3.20)   \u001b[0m\u001b[1m    5.8320 (10.36)  \u001b[0m  2829;773\u001b[1m  21,311.3608 (0.33)   \u001b[0m   12547           1\n",
            "test_matmul_benchmark[128-128-128-cuda]   \u001b[1m     43.4230 (3.28)   \u001b[0m\u001b[1m    579.6040 (8.71)   \u001b[0m\u001b[1m     55.5280 (3.59)   \u001b[0m\u001b[1m   12.7398 (4.22)   \u001b[0m\u001b[1m     56.9135 (3.84)   \u001b[0m\u001b[1m   15.4220 (27.39)  \u001b[0m   1642;93\u001b[1m  18,008.9165 (0.28)   \u001b[0m    9430           1\n",
            "test_matmul_benchmark[8-8-8-cpu]          \u001b[1m     44.4980 (3.36)   \u001b[0m\u001b[1m    199.3660 (3.00)   \u001b[0m\u001b[1m     50.9485 (3.30)   \u001b[0m\u001b[1m   12.4123 (4.12)   \u001b[0m\u001b[1m     45.7970 (3.09)   \u001b[0m\u001b[1m    3.4460 (6.12)   \u001b[0m  759;1001\u001b[1m  19,627.6592 (0.30)   \u001b[0m    7138           1\n",
            "test_matmul_benchmark[128-128-128-np]     \u001b[1m     88.8230 (6.71)   \u001b[0m\u001b[31m\u001b[1m  6,342.8280 (95.33)  \u001b[0m\u001b[1m    126.6158 (8.19)   \u001b[0m\u001b[1m  297.2009 (98.55)  \u001b[0m\u001b[1m    105.4955 (7.12)   \u001b[0m\u001b[1m   10.9960 (19.53)  \u001b[0m      7;56\u001b[1m   7,897.9089 (0.12)   \u001b[0m    1074           1\n",
            "test_matmul_benchmark[64-64-64-cpu]       \u001b[1m    392.2150 (29.65)  \u001b[0m\u001b[1m    973.0230 (14.62)  \u001b[0m\u001b[1m    426.0401 (27.57)  \u001b[0m\u001b[1m   57.7489 (19.15)  \u001b[0m\u001b[1m    406.4990 (27.44)  \u001b[0m\u001b[1m   31.7400 (56.38)  \u001b[0m   138;159\u001b[1m   2,347.1967 (0.04)   \u001b[0m    2226           1\n",
            "test_matmul_benchmark[128-128-128-cpu]    \u001b[31m\u001b[1m  2,533.4990 (191.50) \u001b[0m\u001b[1m  4,950.0780 (74.40)  \u001b[0m\u001b[31m\u001b[1m  2,725.4584 (176.40) \u001b[0m\u001b[31m\u001b[1m  307.5863 (101.99) \u001b[0m\u001b[31m\u001b[1m  2,642.8980 (178.41) \u001b[0m\u001b[31m\u001b[1m  193.9772 (344.54) \u001b[0m     24;23\u001b[31m\u001b[1m     366.9108 (0.01)   \u001b[0m     365           1\n",
            "\u001b[33m-------------------------------------------------------------------------------------------------------------------------------------------------------------------------------------------------------------------------------\u001b[0m\n",
            "\n",
            "Legend:\n",
            "  Outliers: 1 Standard Deviation from Mean; 1.5 IQR (InterQuartile Range) from 1st Quartile and 3rd Quartile.\n",
            "  OPS: Operations Per Second, computed as 1 / Mean\n",
            "\u001b[32m================================ \u001b[32m\u001b[1m9 passed\u001b[0m, \u001b[33m136 deselected\u001b[0m\u001b[32m in 6.06s\u001b[0m\u001b[32m =================================\u001b[0m\n"
          ]
        }
      ]
    },
    {
      "cell_type": "code",
      "source": [],
      "metadata": {
        "id": "lD5YTrqpC70n"
      },
      "id": "lD5YTrqpC70n",
      "execution_count": 17,
      "outputs": []
    }
  ],
  "metadata": {
    "colab": {
      "provenance": [],
      "gpuType": "T4"
    },
    "kernelspec": {
      "display_name": "Python 3",
      "name": "python3"
    },
    "language_info": {
      "codemirror_mode": {
        "name": "ipython",
        "version": 3
      },
      "file_extension": ".py",
      "mimetype": "text/x-python",
      "name": "python",
      "nbconvert_exporter": "python",
      "pygments_lexer": "ipython3",
      "version": "3.8.10"
    },
    "vscode": {
      "interpreter": {
        "hash": "916dbcbb3f70747c44a77c7bcd40155683ae19c65e1c03b4aa3499c5328201f1"
      }
    },
    "accelerator": "GPU"
  },
  "nbformat": 4,
  "nbformat_minor": 5
}